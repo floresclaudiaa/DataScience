{
 "cells": [
  {
   "cell_type": "markdown",
   "metadata": {},
   "source": [
    "# Exploring White House Visitor Data\n",
    "\n",
    "In this project I will provide a brief analysis of 2015 [White House Visitor Access Records](https://obamawhitehouse.archives.gov/briefing-room/disclosures/visitor-records). I will focus on the date and time data to answer the following questions:\n",
    "\n",
    "### How many visitors did the White house have per month?\n",
    "\n",
    "### What is the earliest and latest time of appointments?\n",
    "\n",
    "### What are the minimum and maximum length of appointments?\n",
    "\n",
    "### Why is this information important and what else can be analyzed from this data?\n",
    "\n",
    "#### To accomplish this I will do the following:\n",
    "\n",
    "1. Explore the Data\n",
    "2. Clean the Data\n",
    "3. Analyze the Data\n",
    "4. Make Conclusions from my analysis\n",
    "\n",
    "### 1. Explore the Data"
   ]
  },
  {
   "cell_type": "code",
   "execution_count": 1,
   "metadata": {},
   "outputs": [],
   "source": [
    "from csv import reader\n",
    "opened_file = open('potus_2015.csv')\n",
    "read_file = reader(opened_file)\n",
    "potus = list(read_file)\n",
    "potus_h = potus[0]\n",
    "potus = potus[1:]"
   ]
  },
  {
   "cell_type": "code",
   "execution_count": 2,
   "metadata": {},
   "outputs": [
    {
     "name": "stdout",
     "output_type": "stream",
     "text": [
      "['name', 'appt_made_date', 'appt_start_date', 'appt_end_date', 'visitee_namelast', 'visitee_namefirst', 'meeting_room', 'description']\n",
      "\n",
      "\n",
      "['Joshua T. Blanton', '2014-12-18T00:00:00', '1/6/15 9:30', '1/6/15 23:59', '', 'potus', 'west wing', 'JointService Military Honor Guard']\n",
      "\n",
      "\n",
      "['Jack T. Gutting', '2014-12-18T00:00:00', '1/6/15 9:30', '1/6/15 23:59', '', 'potus', 'west wing', 'JointService Military Honor Guard']\n",
      "\n",
      "\n",
      "['Bradley T. Guiles', '2014-12-18T00:00:00', '1/6/15 9:30', '1/6/15 23:59', '', 'potus', 'west wing', 'JointService Military Honor Guard']\n",
      "\n",
      "\n",
      "['Loryn F. Grieb', '2014-12-18T00:00:00', '1/6/15 9:30', '1/6/15 23:59', '', 'potus', 'west wing', 'JointService Military Honor Guard']\n",
      "\n",
      "\n",
      "['Travis D. Gordon', '2014-12-18T00:00:00', '1/6/15 9:30', '1/6/15 23:59', '', 'potus', 'west wing', 'JointService Military Honor Guard']\n",
      "\n",
      "\n",
      "Number of rows: 47954\n",
      "Number of columns: 8\n"
     ]
    }
   ],
   "source": [
    "def explore_data(dataset, start, end, rows_and_columns = False):\n",
    "    dataset_slice = dataset[start:end]    \n",
    "    for row in dataset_slice:\n",
    "        print(row)\n",
    "        print('\\n')\n",
    "\n",
    "    if rows_and_columns:\n",
    "        print('Number of rows:', len(dataset))\n",
    "        print('Number of columns:', len(dataset[0]))\n",
    "        \n",
    "print(potus_h)\n",
    "print('\\n')\n",
    "explore_data(potus, 0, 5, True)"
   ]
  },
  {
   "cell_type": "markdown",
   "metadata": {},
   "source": [
    "### 2. Clean the Data"
   ]
  },
  {
   "cell_type": "code",
   "execution_count": 3,
   "metadata": {},
   "outputs": [
    {
     "name": "stdout",
     "output_type": "stream",
     "text": [
      "['1/6/15 9:30', '1/6/15 9:30', '1/6/15 9:30', '1/6/15 9:30', '1/6/15 9:30']\n"
     ]
    }
   ],
   "source": [
    "def process_time(start):\n",
    "    if ':' not in start:\n",
    "        start_2 = start + ' 12:00'\n",
    "        start = start_2\n",
    "    else:\n",
    "        return start\n",
    "    return start\n",
    "\n",
    "for row in potus:\n",
    "    start = row[2]\n",
    "    start = process_time(start)\n",
    "    row[2] = start\n",
    "\n",
    "start = []\n",
    "for row in potus:\n",
    "    start.append(row[2])\n",
    "    \n",
    "print(start[:5])"
   ]
  },
  {
   "cell_type": "code",
   "execution_count": 4,
   "metadata": {},
   "outputs": [
    {
     "name": "stdout",
     "output_type": "stream",
     "text": [
      "['1/6/15 23:59', '1/6/15 23:59', '1/6/15 23:59', '1/6/15 23:59', '1/6/15 23:59']\n"
     ]
    }
   ],
   "source": [
    "def process_time(end):\n",
    "    if ':' not in end:\n",
    "        end_2 = end + ' 12:00'\n",
    "        end = end_2\n",
    "    else:\n",
    "        return end\n",
    "    return end\n",
    "\n",
    "for row in potus:\n",
    "    end = row[3]\n",
    "    end = process_time(end)\n",
    "    row[3] = end\n",
    "\n",
    "end = []\n",
    "for row in potus:\n",
    "    end.append(row[3])\n",
    "    \n",
    "print(end[:5])"
   ]
  },
  {
   "cell_type": "code",
   "execution_count": 5,
   "metadata": {},
   "outputs": [],
   "source": [
    "for row in potus:\n",
    "    start = row[2]\n",
    "    start = start.replace(\"2015-10-01\",\"10/1/2015\")\n",
    "    start = start.replace(\":00:00\",\":00\")\n",
    "    start = start.replace(\"2015-01-06\",\"1/6/2015\")\n",
    "    start = start.replace(\"09:30:00\",\"09:30\")\n",
    "    row[2] = start\n",
    "    end = row[3]\n",
    "    end = end.replace(\"2015-10-01\",\"10/1/2015\")\n",
    "    end = end.replace(\":00:00\",\":00\")\n",
    "    end = end.replace(\"2015-01-06\",\"1/6/2015\")\n",
    "    end = end.replace(\"09:30:00\",\"09:30\")\n",
    "    row[3] = end"
   ]
  },
  {
   "cell_type": "code",
   "execution_count": 6,
   "metadata": {},
   "outputs": [],
   "source": [
    "import datetime as dt"
   ]
  },
  {
   "cell_type": "code",
   "execution_count": 7,
   "metadata": {},
   "outputs": [
    {
     "name": "stdout",
     "output_type": "stream",
     "text": [
      "<class 'datetime.datetime'>\n",
      "<class 'datetime.datetime'>\n"
     ]
    }
   ],
   "source": [
    "date_format = \"%m/%d/%y %H:%M\"\n",
    "for row in potus:\n",
    "    appt_start_date = row[2]\n",
    "    appt_start_date = dt.datetime.strptime(appt_start_date, date_format)\n",
    "    row[2] = appt_start_date\n",
    "print(type(appt_start_date))\n",
    "\n",
    "date_format = \"%m/%d/%y %H:%M\"\n",
    "for row in potus:\n",
    "    appt_end_date = row[3]\n",
    "    appt_end_date = dt.datetime.strptime(appt_end_date, date_format)\n",
    "    row[3] = appt_end_date\n",
    "print(type(appt_end_date))"
   ]
  },
  {
   "cell_type": "markdown",
   "metadata": {},
   "source": [
    "### 3. Analyze the Data\n",
    "\n",
    "#### How many visitors did the White house have per month?"
   ]
  },
  {
   "cell_type": "code",
   "execution_count": 8,
   "metadata": {},
   "outputs": [
    {
     "name": "stdout",
     "output_type": "stream",
     "text": [
      "{'January, 15': 1248, 'February, 15': 2165, 'March, 15': 2262, 'April, 15': 4996, 'May, 15': 3013, 'June, 15': 7743, 'July, 15': 2930, 'August, 15': 1350, 'September, 15': 4416, 'October, 15': 3669, 'November, 15': 1133, 'December, 15': 13029}\n"
     ]
    }
   ],
   "source": [
    "visitors_per_month = {}\n",
    "for row in potus:\n",
    "    appt_start_date_obj = row[2]\n",
    "    appt_start_date_str = appt_start_date_obj.strftime(\"%B, %y\")\n",
    "    if appt_start_date_str not in visitors_per_month:\n",
    "         visitors_per_month[appt_start_date_str] = 1\n",
    "    else:\n",
    "        visitors_per_month[appt_start_date_str] += 1\n",
    "print(visitors_per_month)"
   ]
  },
  {
   "cell_type": "code",
   "execution_count": 9,
   "metadata": {},
   "outputs": [
    {
     "name": "stdout",
     "output_type": "stream",
     "text": [
      "[datetime.time(9, 30), datetime.time(9, 30), datetime.time(9, 30)]\n"
     ]
    }
   ],
   "source": [
    "appt_times = []\n",
    "for row in potus:\n",
    "    appt_dt = row[2]\n",
    "    app_t = appt_dt.time()\n",
    "    appt_times.append(app_t)\n",
    "print(appt_times[:3])"
   ]
  },
  {
   "cell_type": "markdown",
   "metadata": {},
   "source": [
    "#### What is the earliest and latest time of appointments?"
   ]
  },
  {
   "cell_type": "code",
   "execution_count": 10,
   "metadata": {},
   "outputs": [
    {
     "name": "stdout",
     "output_type": "stream",
     "text": [
      "06:00:00\n",
      "21:30:00\n"
     ]
    }
   ],
   "source": [
    "min_time = min(appt_times)\n",
    "print(min_time)\n",
    "max_time = max(appt_times)\n",
    "print(max_time)"
   ]
  },
  {
   "cell_type": "markdown",
   "metadata": {},
   "source": [
    "#### What are the minimum and maximum length of appointments?"
   ]
  },
  {
   "cell_type": "code",
   "execution_count": 12,
   "metadata": {},
   "outputs": [
    {
     "ename": "ValueError",
     "evalue": "'s' is a bad directive in format '%m/%d/%y %H:%M:%s'",
     "output_type": "error",
     "traceback": [
      "\u001b[0;31m---------------------------------------------------------------------------\u001b[0m",
      "\u001b[0;31mValueError\u001b[0m                                Traceback (most recent call last)",
      "\u001b[0;32m<ipython-input-12-d60ac2762f9a>\u001b[0m in \u001b[0;36m<module>\u001b[0;34m\u001b[0m\n\u001b[1;32m      1\u001b[0m \u001b[0;32mfor\u001b[0m \u001b[0mrow\u001b[0m \u001b[0;32min\u001b[0m \u001b[0mpotus\u001b[0m\u001b[0;34m:\u001b[0m\u001b[0;34m\u001b[0m\u001b[0;34m\u001b[0m\u001b[0m\n\u001b[1;32m      2\u001b[0m     \u001b[0mstart_date\u001b[0m \u001b[0;34m=\u001b[0m \u001b[0mstr\u001b[0m\u001b[0;34m(\u001b[0m\u001b[0mrow\u001b[0m\u001b[0;34m[\u001b[0m\u001b[0;36m2\u001b[0m\u001b[0;34m]\u001b[0m\u001b[0;34m)\u001b[0m\u001b[0;34m\u001b[0m\u001b[0;34m\u001b[0m\u001b[0m\n\u001b[0;32m----> 3\u001b[0;31m     \u001b[0mstart_date\u001b[0m \u001b[0;34m=\u001b[0m \u001b[0mdt\u001b[0m\u001b[0;34m.\u001b[0m\u001b[0mdatetime\u001b[0m\u001b[0;34m.\u001b[0m\u001b[0mstrptime\u001b[0m\u001b[0;34m(\u001b[0m\u001b[0mstart_date\u001b[0m\u001b[0;34m,\u001b[0m \u001b[0;34m\"%m/%d/%y %H:%M:%s\"\u001b[0m\u001b[0;34m)\u001b[0m\u001b[0;34m\u001b[0m\u001b[0;34m\u001b[0m\u001b[0m\n\u001b[0m\u001b[1;32m      4\u001b[0m     \u001b[0mrow\u001b[0m\u001b[0;34m[\u001b[0m\u001b[0;36m2\u001b[0m\u001b[0;34m]\u001b[0m \u001b[0;34m=\u001b[0m \u001b[0mstart_date\u001b[0m\u001b[0;34m\u001b[0m\u001b[0;34m\u001b[0m\u001b[0m\n\u001b[1;32m      5\u001b[0m \u001b[0;34m\u001b[0m\u001b[0m\n",
      "\u001b[0;32m~/anaconda3/lib/python3.7/_strptime.py\u001b[0m in \u001b[0;36m_strptime_datetime\u001b[0;34m(cls, data_string, format)\u001b[0m\n\u001b[1;32m    575\u001b[0m     \"\"\"Return a class cls instance based on the input string and the\n\u001b[1;32m    576\u001b[0m     format string.\"\"\"\n\u001b[0;32m--> 577\u001b[0;31m     \u001b[0mtt\u001b[0m\u001b[0;34m,\u001b[0m \u001b[0mfraction\u001b[0m\u001b[0;34m,\u001b[0m \u001b[0mgmtoff_fraction\u001b[0m \u001b[0;34m=\u001b[0m \u001b[0m_strptime\u001b[0m\u001b[0;34m(\u001b[0m\u001b[0mdata_string\u001b[0m\u001b[0;34m,\u001b[0m \u001b[0mformat\u001b[0m\u001b[0;34m)\u001b[0m\u001b[0;34m\u001b[0m\u001b[0;34m\u001b[0m\u001b[0m\n\u001b[0m\u001b[1;32m    578\u001b[0m     \u001b[0mtzname\u001b[0m\u001b[0;34m,\u001b[0m \u001b[0mgmtoff\u001b[0m \u001b[0;34m=\u001b[0m \u001b[0mtt\u001b[0m\u001b[0;34m[\u001b[0m\u001b[0;34m-\u001b[0m\u001b[0;36m2\u001b[0m\u001b[0;34m:\u001b[0m\u001b[0;34m]\u001b[0m\u001b[0;34m\u001b[0m\u001b[0;34m\u001b[0m\u001b[0m\n\u001b[1;32m    579\u001b[0m     \u001b[0margs\u001b[0m \u001b[0;34m=\u001b[0m \u001b[0mtt\u001b[0m\u001b[0;34m[\u001b[0m\u001b[0;34m:\u001b[0m\u001b[0;36m6\u001b[0m\u001b[0;34m]\u001b[0m \u001b[0;34m+\u001b[0m \u001b[0;34m(\u001b[0m\u001b[0mfraction\u001b[0m\u001b[0;34m,\u001b[0m\u001b[0;34m)\u001b[0m\u001b[0;34m\u001b[0m\u001b[0;34m\u001b[0m\u001b[0m\n",
      "\u001b[0;32m~/anaconda3/lib/python3.7/_strptime.py\u001b[0m in \u001b[0;36m_strptime\u001b[0;34m(data_string, format)\u001b[0m\n\u001b[1;32m    349\u001b[0m                 \u001b[0;32mdel\u001b[0m \u001b[0merr\u001b[0m\u001b[0;34m\u001b[0m\u001b[0;34m\u001b[0m\u001b[0m\n\u001b[1;32m    350\u001b[0m                 raise ValueError(\"'%s' is a bad directive in format '%s'\" %\n\u001b[0;32m--> 351\u001b[0;31m                                     (bad_directive, format)) from None\n\u001b[0m\u001b[1;32m    352\u001b[0m             \u001b[0;31m# IndexError only occurs when the format string is \"%\"\u001b[0m\u001b[0;34m\u001b[0m\u001b[0;34m\u001b[0m\u001b[0;34m\u001b[0m\u001b[0m\n\u001b[1;32m    353\u001b[0m             \u001b[0;32mexcept\u001b[0m \u001b[0mIndexError\u001b[0m\u001b[0;34m:\u001b[0m\u001b[0;34m\u001b[0m\u001b[0;34m\u001b[0m\u001b[0m\n",
      "\u001b[0;31mValueError\u001b[0m: 's' is a bad directive in format '%m/%d/%y %H:%M:%s'"
     ]
    }
   ],
   "source": [
    "for row in potus:\n",
    "    start_date = str(row[2])\n",
    "    start_date = dt.datetime.strptime(start_date, \"%m/%d/%y %H:%M:%S\")\n",
    "    row[2] = start_date\n",
    "    \n",
    "for row in potus:\n",
    "    end_date = str(row[3])\n",
    "    end_date = dt.datetime.strptime(end_date, \"%m/%d/%y %H:%M:%S\")\n",
    "    row[3] = end_date"
   ]
  },
  {
   "cell_type": "code",
   "execution_count": null,
   "metadata": {},
   "outputs": [],
   "source": [
    "appt_lengths = {}\n",
    "\n",
    "for row in potus:\n",
    "    start_date = row[2]\n",
    "    end_date = row[3]\n",
    "    length = end_date - start_date\n",
    "    if length not in appt_lengths:\n",
    "        appt_lengths[length] = 1\n",
    "    else:\n",
    "        appt_lengths[length] += 1\n",
    "\n",
    "min_length = min(appt_lengths)\n",
    "max_length = max(appt_lengths)"
   ]
  },
  {
   "cell_type": "markdown",
   "metadata": {},
   "source": [
    "### 4. Conclusion"
   ]
  }
 ],
 "metadata": {
  "kernelspec": {
   "display_name": "Python 3",
   "language": "python",
   "name": "python3"
  },
  "language_info": {
   "codemirror_mode": {
    "name": "ipython",
    "version": 3
   },
   "file_extension": ".py",
   "mimetype": "text/x-python",
   "name": "python",
   "nbconvert_exporter": "python",
   "pygments_lexer": "ipython3",
   "version": "3.7.3"
  }
 },
 "nbformat": 4,
 "nbformat_minor": 2
}
