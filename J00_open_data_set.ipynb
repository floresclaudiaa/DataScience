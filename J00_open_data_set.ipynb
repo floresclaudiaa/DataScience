{
 "cells": [
  {
   "cell_type": "markdown",
   "metadata": {},
   "source": [
    "# How to open a csv data set\n",
    "\n",
    "## In the code below, we will:\n",
    "\n",
    "1. Use the `open()` built in function to take in the argument `'AppleStore.csv'` and assign the command to a variable named `opened_file`\n",
    "2. Call the built in functions `from` and `import` to import the `reader` and read the `csv` file we opened\n",
    "3. Call the `reader()` built in function again to take in the argument `opened_file` assigned above, and assign this command to a variable named `read_file` so that we can list the data\n",
    "4. List the data by calling the built in function `list()` that takes in the argument `read_file`, assiged above and assign `list(read_file)` to a variable named `apps_data`\n",
    "\n",
    "## To display the first three rows:\n",
    "\n",
    "5. Assign the list `apps_data[0:2]` to a variable named `first_3_rows`\n",
    "6. `print(first_3_rows)`"
   ]
  },
  {
   "cell_type": "code",
   "execution_count": 1,
   "metadata": {
    "scrolled": true
   },
   "outputs": [
    {
     "name": "stdout",
     "output_type": "stream",
     "text": [
      "[['', 'id', 'track_name', 'size_bytes', 'currency', 'price', 'rating_count_tot', 'rating_count_ver', 'user_rating', 'user_rating_ver', 'ver', 'cont_rating', 'prime_genre', 'sup_devices.num', 'ipadSc_urls.num', 'lang.num', 'vpp_lic'], ['1', '281656475', 'PAC-MAN Premium', '100788224', 'USD', '3.99', '21292', '26', '4', '4.5', '6.3.5', '4+', 'Games', '38', '5', '10', '1']]\n"
     ]
    }
   ],
   "source": [
    "from csv import reader\n",
    "\n",
    "opened_file = open('AppleStore.csv')\n",
    "read_file = reader(opened_file)\n",
    "apps_data = list(read_file)\n",
    "\n",
    "first_3_rows = apps_data[0:2]\n",
    "print(first_3_rows)"
   ]
  },
  {
   "cell_type": "markdown",
   "metadata": {},
   "source": [
    "The data set we just opened shows information about applications. \n",
    "\n",
    "From the first three rows of informstion in the csv `'AppleStore.csv'` we can see the header row (column seen in the table below) which showcases what app information is included. For example, the first item is \"id\" which represend the App ID, and on the second row or index 1 we see that the first application is 'PAC-MAN Premium', which is the App Name correspoding to the \"track name\" on the first list (index 0).\n",
    "\n",
    "The source of the data set is Kaggle and can be found at [kaggle.com](https://www.kaggle.com/ramamet4/app-store-apple-data-set-10k-apps/home)"
   ]
  },
  {
   "cell_type": "markdown",
   "metadata": {},
   "source": [
    "|Column name[0]| Description | apps_data[1]|\n",
    "|:------------:|:-----------:|:-----------:|\n",
    "|    \"id\"      |    App ID   | '284882215' |\n",
    "|\"track_name\"  |   App Name  | PAC-MAN  |\n",
    "| ...          | ...         |  ...        |"
   ]
  }
 ],
 "metadata": {
  "kernelspec": {
   "display_name": "Python 3",
   "language": "python",
   "name": "python3"
  },
  "language_info": {
   "codemirror_mode": {
    "name": "ipython",
    "version": 3
   },
   "file_extension": ".py",
   "mimetype": "text/x-python",
   "name": "python",
   "nbconvert_exporter": "python",
   "pygments_lexer": "ipython3",
   "version": "3.7.3"
  }
 },
 "nbformat": 4,
 "nbformat_minor": 2
}
