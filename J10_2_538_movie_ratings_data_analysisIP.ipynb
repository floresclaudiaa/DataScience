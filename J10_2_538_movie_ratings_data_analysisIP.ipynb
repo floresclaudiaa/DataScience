{
 "cells": [
  {
   "cell_type": "markdown",
   "metadata": {},
   "source": [
    "# Movie Ratings Visualization (In Progress)\n",
    "\n",
    "In this project I will explore the vast movie ratings data from Metacritic, Fandango, Rotten Tomatoes, and IMDB, available at [FiveThirtyEight](https://github.com/fivethirtyeight/data/tree/master/fandango). The data compiles reviews from 147 films in 2015, and has nulled values for movies that have too few reviews that would sawy the ratings unfailry. Below I will analyze that data to answer the following questions:\n",
    "\n",
    "### What is are the average comparable ratings for the first film on the dataset and what can you gather from this information?\n",
    "\n",
    "### What kind of patterns can be gathered from the rating sources that share a comparable rating scale?\n",
    "\n",
    "### What else can be gathred from this data?\n",
    "\n",
    "\n",
    "To accomplish this I will do the following:\n",
    "\n",
    "1. Explore the Data\n",
    "2. Clean the Data\n",
    "3. Analyze the Data\n",
    "4. Make Conclusions from my analysis\n",
    "\n",
    "### 1. Explore the Data"
   ]
  },
  {
   "cell_type": "code",
   "execution_count": 1,
   "metadata": {},
   "outputs": [],
   "source": [
    "import pandas as pd\n",
    "reviews = pd.read_csv('fandango_scores.csv')"
   ]
  },
  {
   "cell_type": "code",
   "execution_count": 2,
   "metadata": {},
   "outputs": [
    {
     "data": {
      "text/html": [
       "<div>\n",
       "<style scoped>\n",
       "    .dataframe tbody tr th:only-of-type {\n",
       "        vertical-align: middle;\n",
       "    }\n",
       "\n",
       "    .dataframe tbody tr th {\n",
       "        vertical-align: top;\n",
       "    }\n",
       "\n",
       "    .dataframe thead th {\n",
       "        text-align: right;\n",
       "    }\n",
       "</style>\n",
       "<table border=\"1\" class=\"dataframe\">\n",
       "  <thead>\n",
       "    <tr style=\"text-align: right;\">\n",
       "      <th></th>\n",
       "      <th>FILM</th>\n",
       "      <th>RottenTomatoes</th>\n",
       "      <th>RottenTomatoes_User</th>\n",
       "      <th>Metacritic</th>\n",
       "      <th>Metacritic_User</th>\n",
       "      <th>IMDB</th>\n",
       "      <th>Fandango_Stars</th>\n",
       "      <th>Fandango_Ratingvalue</th>\n",
       "      <th>RT_norm</th>\n",
       "      <th>RT_user_norm</th>\n",
       "      <th>...</th>\n",
       "      <th>IMDB_norm</th>\n",
       "      <th>RT_norm_round</th>\n",
       "      <th>RT_user_norm_round</th>\n",
       "      <th>Metacritic_norm_round</th>\n",
       "      <th>Metacritic_user_norm_round</th>\n",
       "      <th>IMDB_norm_round</th>\n",
       "      <th>Metacritic_user_vote_count</th>\n",
       "      <th>IMDB_user_vote_count</th>\n",
       "      <th>Fandango_votes</th>\n",
       "      <th>Fandango_Difference</th>\n",
       "    </tr>\n",
       "  </thead>\n",
       "  <tbody>\n",
       "    <tr>\n",
       "      <th>0</th>\n",
       "      <td>Avengers: Age of Ultron (2015)</td>\n",
       "      <td>74</td>\n",
       "      <td>86</td>\n",
       "      <td>66</td>\n",
       "      <td>7.1</td>\n",
       "      <td>7.8</td>\n",
       "      <td>5.0</td>\n",
       "      <td>4.5</td>\n",
       "      <td>3.70</td>\n",
       "      <td>4.3</td>\n",
       "      <td>...</td>\n",
       "      <td>3.90</td>\n",
       "      <td>3.5</td>\n",
       "      <td>4.5</td>\n",
       "      <td>3.5</td>\n",
       "      <td>3.5</td>\n",
       "      <td>4.0</td>\n",
       "      <td>1330</td>\n",
       "      <td>271107</td>\n",
       "      <td>14846</td>\n",
       "      <td>0.5</td>\n",
       "    </tr>\n",
       "    <tr>\n",
       "      <th>1</th>\n",
       "      <td>Cinderella (2015)</td>\n",
       "      <td>85</td>\n",
       "      <td>80</td>\n",
       "      <td>67</td>\n",
       "      <td>7.5</td>\n",
       "      <td>7.1</td>\n",
       "      <td>5.0</td>\n",
       "      <td>4.5</td>\n",
       "      <td>4.25</td>\n",
       "      <td>4.0</td>\n",
       "      <td>...</td>\n",
       "      <td>3.55</td>\n",
       "      <td>4.5</td>\n",
       "      <td>4.0</td>\n",
       "      <td>3.5</td>\n",
       "      <td>4.0</td>\n",
       "      <td>3.5</td>\n",
       "      <td>249</td>\n",
       "      <td>65709</td>\n",
       "      <td>12640</td>\n",
       "      <td>0.5</td>\n",
       "    </tr>\n",
       "    <tr>\n",
       "      <th>2</th>\n",
       "      <td>Ant-Man (2015)</td>\n",
       "      <td>80</td>\n",
       "      <td>90</td>\n",
       "      <td>64</td>\n",
       "      <td>8.1</td>\n",
       "      <td>7.8</td>\n",
       "      <td>5.0</td>\n",
       "      <td>4.5</td>\n",
       "      <td>4.00</td>\n",
       "      <td>4.5</td>\n",
       "      <td>...</td>\n",
       "      <td>3.90</td>\n",
       "      <td>4.0</td>\n",
       "      <td>4.5</td>\n",
       "      <td>3.0</td>\n",
       "      <td>4.0</td>\n",
       "      <td>4.0</td>\n",
       "      <td>627</td>\n",
       "      <td>103660</td>\n",
       "      <td>12055</td>\n",
       "      <td>0.5</td>\n",
       "    </tr>\n",
       "    <tr>\n",
       "      <th>3</th>\n",
       "      <td>Do You Believe? (2015)</td>\n",
       "      <td>18</td>\n",
       "      <td>84</td>\n",
       "      <td>22</td>\n",
       "      <td>4.7</td>\n",
       "      <td>5.4</td>\n",
       "      <td>5.0</td>\n",
       "      <td>4.5</td>\n",
       "      <td>0.90</td>\n",
       "      <td>4.2</td>\n",
       "      <td>...</td>\n",
       "      <td>2.70</td>\n",
       "      <td>1.0</td>\n",
       "      <td>4.0</td>\n",
       "      <td>1.0</td>\n",
       "      <td>2.5</td>\n",
       "      <td>2.5</td>\n",
       "      <td>31</td>\n",
       "      <td>3136</td>\n",
       "      <td>1793</td>\n",
       "      <td>0.5</td>\n",
       "    </tr>\n",
       "    <tr>\n",
       "      <th>4</th>\n",
       "      <td>Hot Tub Time Machine 2 (2015)</td>\n",
       "      <td>14</td>\n",
       "      <td>28</td>\n",
       "      <td>29</td>\n",
       "      <td>3.4</td>\n",
       "      <td>5.1</td>\n",
       "      <td>3.5</td>\n",
       "      <td>3.0</td>\n",
       "      <td>0.70</td>\n",
       "      <td>1.4</td>\n",
       "      <td>...</td>\n",
       "      <td>2.55</td>\n",
       "      <td>0.5</td>\n",
       "      <td>1.5</td>\n",
       "      <td>1.5</td>\n",
       "      <td>1.5</td>\n",
       "      <td>2.5</td>\n",
       "      <td>88</td>\n",
       "      <td>19560</td>\n",
       "      <td>1021</td>\n",
       "      <td>0.5</td>\n",
       "    </tr>\n",
       "  </tbody>\n",
       "</table>\n",
       "<p>5 rows × 22 columns</p>\n",
       "</div>"
      ],
      "text/plain": [
       "                             FILM  RottenTomatoes  RottenTomatoes_User  \\\n",
       "0  Avengers: Age of Ultron (2015)              74                   86   \n",
       "1               Cinderella (2015)              85                   80   \n",
       "2                  Ant-Man (2015)              80                   90   \n",
       "3          Do You Believe? (2015)              18                   84   \n",
       "4   Hot Tub Time Machine 2 (2015)              14                   28   \n",
       "\n",
       "   Metacritic  Metacritic_User  IMDB  Fandango_Stars  Fandango_Ratingvalue  \\\n",
       "0          66              7.1   7.8             5.0                   4.5   \n",
       "1          67              7.5   7.1             5.0                   4.5   \n",
       "2          64              8.1   7.8             5.0                   4.5   \n",
       "3          22              4.7   5.4             5.0                   4.5   \n",
       "4          29              3.4   5.1             3.5                   3.0   \n",
       "\n",
       "   RT_norm  RT_user_norm  ...  IMDB_norm  RT_norm_round  RT_user_norm_round  \\\n",
       "0     3.70           4.3  ...       3.90            3.5                 4.5   \n",
       "1     4.25           4.0  ...       3.55            4.5                 4.0   \n",
       "2     4.00           4.5  ...       3.90            4.0                 4.5   \n",
       "3     0.90           4.2  ...       2.70            1.0                 4.0   \n",
       "4     0.70           1.4  ...       2.55            0.5                 1.5   \n",
       "\n",
       "   Metacritic_norm_round  Metacritic_user_norm_round  IMDB_norm_round  \\\n",
       "0                    3.5                         3.5              4.0   \n",
       "1                    3.5                         4.0              3.5   \n",
       "2                    3.0                         4.0              4.0   \n",
       "3                    1.0                         2.5              2.5   \n",
       "4                    1.5                         1.5              2.5   \n",
       "\n",
       "   Metacritic_user_vote_count  IMDB_user_vote_count  Fandango_votes  \\\n",
       "0                        1330                271107           14846   \n",
       "1                         249                 65709           12640   \n",
       "2                         627                103660           12055   \n",
       "3                          31                  3136            1793   \n",
       "4                          88                 19560            1021   \n",
       "\n",
       "   Fandango_Difference  \n",
       "0                  0.5  \n",
       "1                  0.5  \n",
       "2                  0.5  \n",
       "3                  0.5  \n",
       "4                  0.5  \n",
       "\n",
       "[5 rows x 22 columns]"
      ]
     },
     "execution_count": 2,
     "metadata": {},
     "output_type": "execute_result"
    }
   ],
   "source": [
    "reviews.head(5)"
   ]
  },
  {
   "cell_type": "markdown",
   "metadata": {},
   "source": [
    "From my initial exploration of the reviews data I can see the following:\n",
    "\n",
    "- The ratings scale varies by site. This makes it difficult to comparatively analyze all of the data available in this dataset.\n",
    "- There are 6 columns that have normalized a 0 to 5 point scale for ratings, and as a result, I will focus on the following columns to continue my comparative analysis: `FILM`, `RT_user_norm`, `Metacritic_user_nom`, `IMDB_norm`, `Fandango_Ratingvalue`, `Fandango_Stars`\n",
    "\n",
    "### 2. Clean the Data\n",
    "\n",
    "From my exploration of the data it appears as though the data doesn't need to be cleaned for the pupose of my analysis. I will however focus on sources with a comparable normalized point scale of 0 to 5. As a result, I will not be cleaning this data and will begin my analysis below.\n",
    "\n",
    "### 3. Analyze the Data"
   ]
  },
  {
   "cell_type": "code",
   "execution_count": 3,
   "metadata": {},
   "outputs": [
    {
     "name": "stdout",
     "output_type": "stream",
     "text": [
      "                             FILM  RT_user_norm  Metacritic_user_nom  \\\n",
      "0  Avengers: Age of Ultron (2015)           4.3                 3.55   \n",
      "\n",
      "   IMDB_norm  Fandango_Ratingvalue  Fandango_Stars  \n",
      "0        3.9                   4.5             5.0  \n"
     ]
    }
   ],
   "source": [
    "reviews = pd.read_csv('fandango_scores.csv')\n",
    "columns = ['FILM', 'RT_user_norm', 'Metacritic_user_nom', 'IMDB_norm', 'Fandango_Ratingvalue', 'Fandango_Stars']\n",
    "norm_reviews = reviews[columns]\n",
    "print(norm_reviews[:1])"
   ]
  },
  {
   "cell_type": "code",
   "execution_count": 4,
   "metadata": {},
   "outputs": [
    {
     "data": {
      "text/plain": [
       "<Figure size 640x480 with 1 Axes>"
      ]
     },
     "metadata": {},
     "output_type": "display_data"
    }
   ],
   "source": [
    "import matplotlib.pyplot as plt\n",
    "from numpy import arange\n",
    "columns = ['RT_user_norm', 'Metacritic_user_nom', 'IMDB_norm', 'Fandango_Ratingvalue', 'Fandango_Stars']\n",
    "\n",
    "bar_heights = norm_reviews[columns].iloc[0].values\n",
    "bar_positions = arange(5) + 0.75\n",
    "\n",
    "tick_positions = range(1,6)\n",
    "\n",
    "fig, ax = plt.subplots()\n",
    "ax.bar(bar_positions, bar_heights, 0.5)\n",
    "ax.set_xticks(tick_positions)\n",
    "ax.set_xticklabels(columns, rotation=90)\n",
    "\n",
    "plt.xlabel(\"Rating Source\")\n",
    "plt.ylabel(\"Average Rating\")\n",
    "plt.title(\"Average User Rating For Avengers: Age of Ultron (2015)\")\n",
    "\n",
    "plt.show()"
   ]
  },
  {
   "cell_type": "code",
   "execution_count": 5,
   "metadata": {},
   "outputs": [
    {
     "data": {
      "image/png": "[encoded data removed]",
      "text/plain": [
       "<Figure size 432x288 with 1 Axes>"
      ]
     },
     "metadata": {
      "needs_background": "light"
     },
     "output_type": "display_data"
    }
   ],
   "source": [
    "bar_widths = norm_reviews[columns].iloc[0].values\n",
    "bar_positions = arange(5) + 0.75\n",
    "tick_positions = range(1,6)\n",
    "\n",
    "fig, ax = plt.subplots()\n",
    "ax.barh(bar_positions, bar_widths, 0.5)\n",
    "ax.set_yticks(tick_positions)\n",
    "ax.set_yticklabels(columns)\n",
    "\n",
    "plt.ylabel(\"Rating Source\")\n",
    "plt.xlabel(\"Average Rating\")\n",
    "plt.title(\"Average User Rating For Avengers: Age of Ultron (2015)\")\n",
    "plt.show()"
   ]
  },
  {
   "cell_type": "markdown",
   "metadata": {},
   "source": [
    "From my exploration of the Average User Rating for Avengers: Age of Ultron (2015), I can see the following:\n",
    "\n",
    "- Both Fandango reviews show higher ratings on average than those measured by the other rating sources"
   ]
  },
  {
   "cell_type": "code",
   "execution_count": 6,
   "metadata": {},
   "outputs": [
    {
     "data": {
      "image/png": "[encoded data removed]",
      "text/plain": [
       "<Figure size 432x288 with 1 Axes>"
      ]
     },
     "metadata": {
      "needs_background": "light"
     },
     "output_type": "display_data"
    }
   ],
   "source": [
    "fig, ax = plt.subplots()\n",
    "ax.scatter(norm_reviews[\"Fandango_Ratingvalue\"], norm_reviews[\"RT_user_norm\"])\n",
    "\n",
    "ax.set_xlabel(\"Fandango\")\n",
    "ax.set_ylabel(\"Rotten Tomatoes\")\n",
    "\n",
    "plt.show()"
   ]
  },
  {
   "cell_type": "markdown",
   "metadata": {},
   "source": [
    "From my exploration of Fandango and Rotten Tomatoes user reviews, I can see the following:\n",
    "\n",
    "- There is a weak positive correlation between both rating sources"
   ]
  },
  {
   "cell_type": "code",
   "execution_count": 7,
   "metadata": {},
   "outputs": [
    {
     "data": {
      "image/png": "[encoded data removed]",
      "text/plain": [
       "<Figure size 360x720 with 2 Axes>"
      ]
     },
     "metadata": {
      "needs_background": "light"
     },
     "output_type": "display_data"
    }
   ],
   "source": [
    "fig = plt.figure(figsize=(5,10))\n",
    "ax1 = fig.add_subplot(2,1,1)\n",
    "ax2 = fig.add_subplot(2,1,2)\n",
    "\n",
    "ax1.scatter(norm_reviews[\"Fandango_Ratingvalue\"], norm_reviews[\"RT_user_norm\"])\n",
    "ax1.set_xlabel(\"Fandango\")\n",
    "ax1.set_ylabel(\"Rotten Tomatoes\")\n",
    "\n",
    "ax2.scatter(norm_reviews[\"RT_user_norm\"], norm_reviews[\"Fandango_Ratingvalue\"])\n",
    "ax2.set_xlabel(\"Rotten Tomatoes\")\n",
    "ax2.set_ylabel(\"Fandango\")\n",
    "\n",
    "plt.show()"
   ]
  },
  {
   "cell_type": "code",
   "execution_count": 8,
   "metadata": {},
   "outputs": [
    {
     "data": {
      "image/png": "[encoded data removed]",
      "text/plain": [
       "<Figure size 360x720 with 4 Axes>"
      ]
     },
     "metadata": {
      "needs_background": "light"
     },
     "output_type": "display_data"
    }
   ],
   "source": [
    "fig = plt.figure(figsize=(5,10))\n",
    "ax1 = fig.add_subplot(4,1,1)\n",
    "ax2 = fig.add_subplot(4,1,2)\n",
    "ax3 = fig.add_subplot(4,1,3)\n",
    "ax4 = fig.add_subplot(4,1,4)\n",
    "\n",
    "ax1.scatter(norm_reviews[\"Fandango_Ratingvalue\"], norm_reviews[\"RT_user_norm\"])\n",
    "ax1.set_xlabel(\"Fandango\")\n",
    "ax1.set_ylabel(\"Rotten Tomatoes\")\n",
    "ax1.set_xlim(0, 5)\n",
    "ax1.set_ylim(0, 5)\n",
    "\n",
    "ax2.scatter(norm_reviews[\"RT_user_norm\"], norm_reviews[\"Fandango_Ratingvalue\"])\n",
    "ax2.set_xlabel(\"Rotten Tomatoes\")\n",
    "ax2.set_ylabel(\"Fandango\")\n",
    "ax1.set_xlim(0, 5)\n",
    "ax1.set_ylim(0, 5)\n",
    "\n",
    "ax3.scatter(norm_reviews[\"Fandango_Ratingvalue\"], norm_reviews[\"Metacritic_user_nom\"])\n",
    "ax3.set_xlabel(\"Fandango\")\n",
    "ax3.set_ylabel(\"Metacritic\")\n",
    "ax3.set_xlim(0, 5)\n",
    "ax3.set_ylim(0, 5)\n",
    "\n",
    "ax4.scatter(norm_reviews[\"Fandango_Ratingvalue\"], norm_reviews[\"IMDB_norm\"])\n",
    "ax4.set_xlabel(\"Fandango\")\n",
    "ax4.set_ylabel(\"IMDB\")\n",
    "ax4.set_xlim(0, 5)\n",
    "ax4.set_ylim(0, 5)\n",
    "\n",
    "plt.show()"
   ]
  },
  {
   "cell_type": "markdown",
   "metadata": {},
   "source": [
    "From my exploration of how Fandango ratings correlate with all other rating sources user reviews, I can see the following:\n",
    "\n",
    "- From the scatter plots, we can conclude that user ratings from Metacritic and Rotten Tomatoes span a larger range of values than those from IMDB or Fandango. User ratings from Metacritic and Rotten Tomatoes range from 1 to 5. User ratings from Fandango range approximately from 2.5 to 5 while those from IMDB range approximately from 2 to 4.5.\n",
    "\n",
    "- The scatter plots unfortunately only give us a cursory understanding of the distributions of user ratings from each review site. For example, if a hundred movies had the same average user rating from IMDB and Fandango in the dataset, we would only see a single marker in the scatter plot. In the next mission, we'll learn about two types of plots that help us understand distributions of values.\n",
    "\n",
    "- We ended the mission with the observations that user ratings from Metacritic and Rotten Tomatoes spanned a larger range (1.0 to 5.0) while those from Fandango and IMDB spanned a smaller range (2.5 to 5 and 2 to 5 respectively)."
   ]
  },
  {
   "cell_type": "code",
   "execution_count": 9,
   "metadata": {},
   "outputs": [
    {
     "name": "stdout",
     "output_type": "stream",
     "text": [
      "2.7     2\n",
      "2.8     2\n",
      "2.9     5\n",
      "3.0     4\n",
      "3.1     3\n",
      "3.2     5\n",
      "3.3     4\n",
      "3.4     9\n",
      "3.5     9\n",
      "3.6     8\n",
      "3.7     9\n",
      "3.8     5\n",
      "3.9    12\n",
      "4.0     7\n",
      "4.1    16\n",
      "4.2    12\n",
      "4.3    11\n",
      "4.4     7\n",
      "4.5     9\n",
      "4.6     4\n",
      "4.8     3\n",
      "Name: Fandango_Ratingvalue, dtype: int64\n",
      "2.00     1\n",
      "2.10     1\n",
      "2.15     1\n",
      "2.20     1\n",
      "2.30     2\n",
      "2.45     2\n",
      "2.50     1\n",
      "2.55     1\n",
      "2.60     2\n",
      "2.70     4\n",
      "2.75     5\n",
      "2.80     2\n",
      "2.85     1\n",
      "2.90     1\n",
      "2.95     3\n",
      "3.00     2\n",
      "3.05     4\n",
      "3.10     1\n",
      "3.15     9\n",
      "3.20     6\n",
      "3.25     4\n",
      "3.30     9\n",
      "3.35     7\n",
      "3.40     1\n",
      "3.45     7\n",
      "3.50     4\n",
      "3.55     7\n",
      "3.60    10\n",
      "3.65     5\n",
      "3.70     8\n",
      "3.75     6\n",
      "3.80     3\n",
      "3.85     4\n",
      "3.90     9\n",
      "3.95     2\n",
      "4.00     1\n",
      "4.05     1\n",
      "4.10     4\n",
      "4.15     1\n",
      "4.20     2\n",
      "4.30     1\n",
      "Name: IMDB_norm, dtype: int64\n"
     ]
    }
   ],
   "source": [
    "fandango_distribution = reviews['Fandango_Ratingvalue'].value_counts().sort_index()\n",
    "\n",
    "imdb_distribution = reviews['IMDB_norm'].value_counts().sort_index()\n",
    "\n",
    "print(fandango_distribution)\n",
    "print(imdb_distribution)"
   ]
  },
  {
   "cell_type": "markdown",
   "metadata": {},
   "source": [
    "From my exploration of the frequency of Fandango and IMDB reviews, I can see the following:\n",
    "\n",
    "- The Fandango_Ratingvalue column ranges from 2.7 to 4.8 while the IMDB_norm column ranges from 2 to 4.3\n",
    "\n",
    "Yet the following questions cannot be examined on the frequency plot:\n",
    "\n",
    "- What percent of the ratings are contained in the 2.0 to 4.0 range?\n",
    "    - How does this compare with other sites?\n",
    "- Which values represent the top 25% of the ratings? The bottom 25%?\n",
    "    - How does this compare with other sites?\n",
    "    \n",
    "Comparing frequency distributions is also challenging because the Fandango_Ratingvalue column contains 21 unique values while IMDB_norm contains 41 unique values. We need a way to compare frequencies across a shared set of values. They do share a normalized range of 0 to 5 and we can use this range to create a series of fixed rate intervals."
   ]
  },
  {
   "cell_type": "code",
   "execution_count": 10,
   "metadata": {},
   "outputs": [
    {
     "data": {
      "image/png": "[encoded data removed]",
      "text/plain": [
       "<Figure size 432x288 with 1 Axes>"
      ]
     },
     "metadata": {
      "needs_background": "light"
     },
     "output_type": "display_data"
    }
   ],
   "source": [
    "fig, ax = plt.subplots()\n",
    "ax.hist(norm_reviews['Fandango_Ratingvalue'], range=(0, 5))\n",
    "plt.show()"
   ]
  },
  {
   "cell_type": "markdown",
   "metadata": {},
   "source": [
    "From my exploration of the Histogram of Fandango reviews, I can see the following:\n",
    "\n",
    "\n",
    "- The proportional area that the bars in the 2.0 to 4.0 range take up and determine that more than 50% of the movies on Fandango fall in this range. \n",
    "- As a result, I can increase the number of bins from 10 to 20 for improved resolution of the distribution. The length of each bin will be 0.25 (5 / 20) instead of 0.5 (5 / 10). The bins parameter for Axes.hist() is the 2nd positional parameter, but can also be specified as a named parameter:"
   ]
  },
  {
   "cell_type": "code",
   "execution_count": 11,
   "metadata": {},
   "outputs": [
    {
     "data": {
      "image/png": "[encoded data removed]",
      "text/plain": [
       "<Figure size 360x1440 with 4 Axes>"
      ]
     },
     "metadata": {
      "needs_background": "light"
     },
     "output_type": "display_data"
    }
   ],
   "source": [
    "fig = plt.figure(figsize=(5,20))\n",
    "ax1 = fig.add_subplot(4,1,1)\n",
    "ax2 = fig.add_subplot(4,1,2)\n",
    "ax3 = fig.add_subplot(4,1,3)\n",
    "ax4 = fig.add_subplot(4,1,4)\n",
    "\n",
    "ax1.hist(norm_reviews['Fandango_Ratingvalue'], bins=20, range=(0, 5))\n",
    "ax1.set_title(\"Distribution of Fandango Ratings\")\n",
    "ax1.set_ylim(0, 50)\n",
    "\n",
    "ax2.hist(norm_reviews['RT_user_norm'], bins=20, range=(0, 5))\n",
    "ax2.set_title(\"Distribution of Rotten Tomatoes Ratings\")\n",
    "ax2.set_ylim(0, 50)\n",
    "\n",
    "ax3.hist(norm_reviews['Metacritic_user_nom'], bins=20, range=(0, 5))\n",
    "ax3.set_title(\"Distribution of Metacritic Ratings\")\n",
    "ax3.set_ylim(0, 50)\n",
    "\n",
    "ax4.hist(norm_reviews['IMDB_norm'], bins=20, range=(0, 5))\n",
    "ax4.set_title(\"Distribution of IMDB Ratings\")\n",
    "ax4.set_ylim(0, 50)\n",
    "\n",
    "plt.show()"
   ]
  },
  {
   "cell_type": "markdown",
   "metadata": {},
   "source": [
    "From my exploration of the Histograms of Fandango, Rotten Tomatoes, Metacritic, and IMDB reviews, I can see the following:\n",
    "\n",
    "- Around 50% of user ratings from Fandango fall in the 2 to 4 score range\n",
    "- Around 50% of user ratings from Rotten Tomatoes fall in the 2 to 4 score range\n",
    "- Around 75% of the user ratings from Metacritic fall in the 2 to 4 score range\n",
    "- Around 90% of the user ratings from IMDB fall in the 2 to 4 score range\n",
    "\n",
    "To visualize quartiles, I will use a box plot."
   ]
  },
  {
   "cell_type": "code",
   "execution_count": 12,
   "metadata": {},
   "outputs": [
    {
     "data": {
      "image/png": "[encoded data removed]",
      "text/plain": [
       "<Figure size 432x288 with 1 Axes>"
      ]
     },
     "metadata": {
      "needs_background": "light"
     },
     "output_type": "display_data"
    }
   ],
   "source": [
    "fig, ax = plt.subplots()\n",
    "ax.boxplot(norm_reviews['RT_user_norm'])\n",
    "ax.set_xticklabels([\"Rotten Tomatoes\"])\n",
    "ax.set_ylim(0, 5)\n",
    "plt.show()"
   ]
  },
  {
   "cell_type": "markdown",
   "metadata": {},
   "source": [
    "From my exploration of the Box Plot of Rotten Tomatoes reviews, I can see the following:\n",
    "\n",
    "- The bottom 25% of user ratings range from around 1 to 2.5\n",
    "- The top 25% of of user ratings range from around 4 to 4.6"
   ]
  },
  {
   "cell_type": "code",
   "execution_count": 13,
   "metadata": {},
   "outputs": [
    {
     "data": {
      "image/png": "[encoded data removed]",
      "text/plain": [
       "<Figure size 432x288 with 1 Axes>"
      ]
     },
     "metadata": {
      "needs_background": "light"
     },
     "output_type": "display_data"
    }
   ],
   "source": [
    "fig, ax = plt.subplots()\n",
    "ax.boxplot(norm_reviews[columns].values)\n",
    "ax.set_xticklabels(norm_reviews[columns], rotation=90)\n",
    "ax.set_ylim(0, 5)\n",
    "plt.show()"
   ]
  },
  {
   "cell_type": "markdown",
   "metadata": {},
   "source": [
    "From my exploration of the Box Plots of Fandango, Rotten Tomatoes, Metacritic, and IMDB reviews, I can see the following:\n",
    "\n",
    "- User ratings from Rotten Tomatoes and Metacritic span a larger range of values\n",
    "- User ratings from IMDB and Fandango are both skewed in the positive direction and span a more constrained range of values\n",
    "\n",
    "In addition, there are a couple user ratings from both Metacritic and IMDB qualify as outliers .\n",
    "\n",
    "### Conclusion"
   ]
  }
 ],
 "metadata": {
  "kernelspec": {
   "display_name": "Python 3",
   "language": "python",
   "name": "python3"
  },
  "language_info": {
   "codemirror_mode": {
    "name": "ipython",
    "version": 3
   },
   "file_extension": ".py",
   "mimetype": "text/x-python",
   "name": "python",
   "nbconvert_exporter": "python",
   "pygments_lexer": "ipython3",
   "version": "3.7.3"
  }
 },
 "nbformat": 4,
 "nbformat_minor": 2
}
