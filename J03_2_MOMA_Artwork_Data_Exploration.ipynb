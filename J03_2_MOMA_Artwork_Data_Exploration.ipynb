{
 "cells": [
  {
   "cell_type": "markdown",
   "metadata": {},
   "source": [
    "# Museum of Modern Art (MOMA) Artwork Data Exploration\n",
    "    \n",
    "In this project I will explore the vast Artwork data available from [New York's Museum of Modern Art](https://github.com/MuseumofModernArt/collection) to answer the following questions:\n",
    "\n",
    "### What does the makeup of the artwork look like in terms of artist nationality, and gender?\n",
    "\n",
    "### What other interesting information may be seen from the data collected?\n",
    "\n",
    "#### To accomplish this I will do the following:\n",
    "\n",
    "1. Explore the Data\n",
    "2. Clean the Data\n",
    "3. Analyze the Data\n",
    "4. Make Conclusions from my analysis\n",
    "\n",
    "### 1. Explore the Data"
   ]
  },
  {
   "cell_type": "code",
   "execution_count": 1,
   "metadata": {},
   "outputs": [
    {
     "name": "stdout",
     "output_type": "stream",
     "text": [
      "['\\ufeffTitle', 'Artist', 'ConstituentID', 'ArtistBio', 'Nationality', 'BeginDate', 'EndDate', 'Gender', 'Date', 'Medium', 'Dimensions', 'CreditLine', 'AccessionNumber', 'Classification', 'Department', 'DateAcquired', 'Cataloged', 'ObjectID', 'URL', 'ThumbnailURL', 'Circumference (cm)', 'Depth (cm)', 'Diameter (cm)', 'Height (cm)', 'Length (cm)', 'Weight (kg)', 'Width (cm)', 'Seat Height (cm)', 'Duration (sec.)']\n",
      "\n",
      "\n",
      "[['Ferdinandsbrücke Project, Vienna, Austria (Elevation, preliminary version)', 'Otto Wagner', '6210', '(Austrian, 1841–1918)', '(Austrian)', '(1841)', '(1918)', '(Male)', '1896', 'Ink and cut-and-pasted painted pages on paper', '19 1/8 x 66 1/2\" (48.6 x 168.9 cm)', 'Fractional and promised gift of Jo Carole and Ronald S. Lauder', '885.1996', 'Architecture', 'Architecture & Design', '1996-04-09', 'Y', '2', 'http://www.moma.org/collection/works/2', 'http://www.moma.org/media/W1siZiIsIjU5NDA1Il0sWyJwIiwiY29udmVydCIsIi1yZXNpemUgMzAweDMwMFx1MDAzZSJdXQ.jpg?sha=137b8455b1ec6167', '', '', '', '48.6', '', '', '168.9', '', ''], ['City of Music, National Superior Conservatory of Music and Dance, Paris, France, View from interior courtyard', 'Christian de Portzamparc', '7470', '(French, born 1944)', '(French)', '(1944)', '(0)', '(Male)', '1987', 'Paint and colored pencil on print', '16 x 11 3/4\" (40.6 x 29.8 cm)', 'Gift of the architect in honor of Lily Auchincloss', '1.1995', 'Architecture', 'Architecture & Design', '1995-01-17', 'Y', '3', 'http://www.moma.org/collection/works/3', 'http://www.moma.org/media/W1siZiIsIjk3Il0sWyJwIiwiY29udmVydCIsIi1yZXNpemUgMzAweDMwMFx1MDAzZSJdXQ.jpg?sha=55b65fa4368fe00a', '', '', '', '40.6401', '', '', '29.8451', '', ''], ['Villa near Vienna Project, Outside Vienna, Austria, Elevation', 'Emil Hoppe', '7605', '(Austrian, 1876–1957)', '(Austrian)', '(1876)', '(1957)', '(Male)', '1903', 'Graphite, pen, color pencil, ink, and gouache on tracing paper', '13 1/2 x 12 1/2\" (34.3 x 31.8 cm)', 'Gift of Jo Carole and Ronald S. Lauder', '1.1997', 'Architecture', 'Architecture & Design', '1997-01-15', 'Y', '4', 'http://www.moma.org/collection/works/4', 'http://www.moma.org/media/W1siZiIsIjk4Il0sWyJwIiwiY29udmVydCIsIi1yZXNpemUgMzAweDMwMFx1MDAzZSJdXQ.jpg?sha=fdcfca4db3acac1f', '', '', '', '34.3', '', '', '31.8', '', '']]\n"
     ]
    }
   ],
   "source": [
    "from csv import reader\n",
    "\n",
    "opened_file = open('MOMAArtworks.csv')\n",
    "read_file = reader(opened_file)\n",
    "moma = list(read_file)\n",
    "moma_header = moma[0]\n",
    "moma = moma[1:]\n",
    "\n",
    "print(moma_header)\n",
    "print('\\n')\n",
    "print(moma[0:3])"
   ]
  },
  {
   "cell_type": "code",
   "execution_count": 2,
   "metadata": {},
   "outputs": [
    {
     "name": "stdout",
     "output_type": "stream",
     "text": [
      "['\\ufeffTitle', 'Artist', 'ConstituentID', 'ArtistBio', 'Nationality', 'BeginDate', 'EndDate', 'Gender', 'Date', 'Medium', 'Dimensions', 'CreditLine', 'AccessionNumber', 'Classification', 'Department', 'DateAcquired', 'Cataloged', 'ObjectID', 'URL', 'ThumbnailURL', 'Circumference (cm)', 'Depth (cm)', 'Diameter (cm)', 'Height (cm)', 'Length (cm)', 'Weight (kg)', 'Width (cm)', 'Seat Height (cm)', 'Duration (sec.)']\n",
      "\n",
      "\n",
      "['Ferdinandsbrücke Project, Vienna, Austria (Elevation, preliminary version)', 'Otto Wagner', '6210', '(Austrian, 1841–1918)', '(Austrian)', '(1841)', '(1918)', '(Male)', '1896', 'Ink and cut-and-pasted painted pages on paper', '19 1/8 x 66 1/2\" (48.6 x 168.9 cm)', 'Fractional and promised gift of Jo Carole and Ronald S. Lauder', '885.1996', 'Architecture', 'Architecture & Design', '1996-04-09', 'Y', '2', 'http://www.moma.org/collection/works/2', 'http://www.moma.org/media/W1siZiIsIjU5NDA1Il0sWyJwIiwiY29udmVydCIsIi1yZXNpemUgMzAweDMwMFx1MDAzZSJdXQ.jpg?sha=137b8455b1ec6167', '', '', '', '48.6', '', '', '168.9', '', '']\n",
      "\n",
      "\n",
      "['City of Music, National Superior Conservatory of Music and Dance, Paris, France, View from interior courtyard', 'Christian de Portzamparc', '7470', '(French, born 1944)', '(French)', '(1944)', '(0)', '(Male)', '1987', 'Paint and colored pencil on print', '16 x 11 3/4\" (40.6 x 29.8 cm)', 'Gift of the architect in honor of Lily Auchincloss', '1.1995', 'Architecture', 'Architecture & Design', '1995-01-17', 'Y', '3', 'http://www.moma.org/collection/works/3', 'http://www.moma.org/media/W1siZiIsIjk3Il0sWyJwIiwiY29udmVydCIsIi1yZXNpemUgMzAweDMwMFx1MDAzZSJdXQ.jpg?sha=55b65fa4368fe00a', '', '', '', '40.6401', '', '', '29.8451', '', '']\n",
      "\n",
      "\n",
      "['Villa near Vienna Project, Outside Vienna, Austria, Elevation', 'Emil Hoppe', '7605', '(Austrian, 1876–1957)', '(Austrian)', '(1876)', '(1957)', '(Male)', '1903', 'Graphite, pen, color pencil, ink, and gouache on tracing paper', '13 1/2 x 12 1/2\" (34.3 x 31.8 cm)', 'Gift of Jo Carole and Ronald S. Lauder', '1.1997', 'Architecture', 'Architecture & Design', '1997-01-15', 'Y', '4', 'http://www.moma.org/collection/works/4', 'http://www.moma.org/media/W1siZiIsIjk4Il0sWyJwIiwiY29udmVydCIsIi1yZXNpemUgMzAweDMwMFx1MDAzZSJdXQ.jpg?sha=fdcfca4db3acac1f', '', '', '', '34.3', '', '', '31.8', '', '']\n",
      "\n",
      "\n",
      "Number of rows: 139018\n",
      "Number of columns: 29\n"
     ]
    }
   ],
   "source": [
    "def explore_data(dataset, start, end, rows_and_columns = False):\n",
    "    dataset_slice = dataset[start:end]    \n",
    "    for row in dataset_slice:\n",
    "        print(row)\n",
    "        print('\\n')\n",
    "\n",
    "    if rows_and_columns:\n",
    "        print('Number of rows:', len(dataset))\n",
    "        print('Number of columns:', len(dataset[0]))\n",
    "        \n",
    "print(moma_header)\n",
    "print('\\n')\n",
    "explore_data(moma, 0, 3, True)"
   ]
  },
  {
   "cell_type": "markdown",
   "metadata": {},
   "source": [
    "### 2. Clean the Data"
   ]
  },
  {
   "cell_type": "code",
   "execution_count": 3,
   "metadata": {},
   "outputs": [
    {
     "name": "stdout",
     "output_type": "stream",
     "text": [
      "['(Austrian)', '(French)', '(Austrian)', '()', '(Austrian)']\n",
      "['(Male)', '(Male)', '(Male)', '(Male)', '(Male)']\n"
     ]
    }
   ],
   "source": [
    "n = []\n",
    "for row in moma:\n",
    "    n.append(row[4])\n",
    "    \n",
    "g = []\n",
    "for row in moma:\n",
    "    g.append(row[7])\n",
    "\n",
    "print(n[:5])\n",
    "print(g[:5])"
   ]
  },
  {
   "cell_type": "code",
   "execution_count": 4,
   "metadata": {},
   "outputs": [
    {
     "name": "stdout",
     "output_type": "stream",
     "text": [
      "[['Ferdinandsbrücke Project, Vienna, Austria (Elevation, preliminary version)', 'Otto Wagner', '6210', '(Austrian, 1841–1918)', 'Austrian', '(1841)', '(1918)', 'Male', '1896', 'Ink and cut-and-pasted painted pages on paper', '19 1/8 x 66 1/2\" (48.6 x 168.9 cm)', 'Fractional and promised gift of Jo Carole and Ronald S. Lauder', '885.1996', 'Architecture', 'Architecture & Design', '1996-04-09', 'Y', '2', 'http://www.moma.org/collection/works/2', 'http://www.moma.org/media/W1siZiIsIjU5NDA1Il0sWyJwIiwiY29udmVydCIsIi1yZXNpemUgMzAweDMwMFx1MDAzZSJdXQ.jpg?sha=137b8455b1ec6167', '', '', '', '48.6', '', '', '168.9', '', ''], ['City of Music, National Superior Conservatory of Music and Dance, Paris, France, View from interior courtyard', 'Christian de Portzamparc', '7470', '(French, born 1944)', 'French', '(1944)', '(0)', 'Male', '1987', 'Paint and colored pencil on print', '16 x 11 3/4\" (40.6 x 29.8 cm)', 'Gift of the architect in honor of Lily Auchincloss', '1.1995', 'Architecture', 'Architecture & Design', '1995-01-17', 'Y', '3', 'http://www.moma.org/collection/works/3', 'http://www.moma.org/media/W1siZiIsIjk3Il0sWyJwIiwiY29udmVydCIsIi1yZXNpemUgMzAweDMwMFx1MDAzZSJdXQ.jpg?sha=55b65fa4368fe00a', '', '', '', '40.6401', '', '', '29.8451', '', ''], ['Villa near Vienna Project, Outside Vienna, Austria, Elevation', 'Emil Hoppe', '7605', '(Austrian, 1876–1957)', 'Austrian', '(1876)', '(1957)', 'Male', '1903', 'Graphite, pen, color pencil, ink, and gouache on tracing paper', '13 1/2 x 12 1/2\" (34.3 x 31.8 cm)', 'Gift of Jo Carole and Ronald S. Lauder', '1.1997', 'Architecture', 'Architecture & Design', '1997-01-15', 'Y', '4', 'http://www.moma.org/collection/works/4', 'http://www.moma.org/media/W1siZiIsIjk4Il0sWyJwIiwiY29udmVydCIsIi1yZXNpemUgMzAweDMwMFx1MDAzZSJdXQ.jpg?sha=fdcfca4db3acac1f', '', '', '', '34.3', '', '', '31.8', '', '']]\n",
      "\n",
      "\n",
      "British\n",
      "Japanese\n",
      "Female\n",
      "Male\n"
     ]
    }
   ],
   "source": [
    "for row in moma:\n",
    "    nationality = row[4]\n",
    "    nationality = nationality.replace(\"(\",\"\")\n",
    "    nationality = nationality.replace(\")\",\"\")\n",
    "    row[4] = nationality\n",
    "    gender = row[7]\n",
    "    gender = gender.replace(\"(\",\"\")\n",
    "    gender = gender.replace(\")\",\"\")\n",
    "    row[7] = gender\n",
    "    \n",
    "print(moma[:3])\n",
    "print('\\n')\n",
    "print(moma[300][4])\n",
    "print(moma[400][4])\n",
    "print(moma[300][7])\n",
    "print(moma[400][7])"
   ]
  },
  {
   "cell_type": "code",
   "execution_count": 5,
   "metadata": {},
   "outputs": [
    {
     "name": "stdout",
     "output_type": "stream",
     "text": [
      "[['Ferdinandsbrücke Project, Vienna, Austria (Elevation, preliminary version)', 'Otto Wagner', '6210', '(Austrian, 1841–1918)', 'Austrian', '(1841)', '(1918)', 'Male', '1896', 'Ink and cut-and-pasted painted pages on paper', '19 1/8 x 66 1/2\" (48.6 x 168.9 cm)', 'Fractional and promised gift of Jo Carole and Ronald S. Lauder', '885.1996', 'Architecture', 'Architecture & Design', '1996-04-09', 'Y', '2', 'http://www.moma.org/collection/works/2', 'http://www.moma.org/media/W1siZiIsIjU5NDA1Il0sWyJwIiwiY29udmVydCIsIi1yZXNpemUgMzAweDMwMFx1MDAzZSJdXQ.jpg?sha=137b8455b1ec6167', '', '', '', '48.6', '', '', '168.9', '', ''], ['City of Music, National Superior Conservatory of Music and Dance, Paris, France, View from interior courtyard', 'Christian de Portzamparc', '7470', '(French, born 1944)', 'French', '(1944)', '(0)', 'Male', '1987', 'Paint and colored pencil on print', '16 x 11 3/4\" (40.6 x 29.8 cm)', 'Gift of the architect in honor of Lily Auchincloss', '1.1995', 'Architecture', 'Architecture & Design', '1995-01-17', 'Y', '3', 'http://www.moma.org/collection/works/3', 'http://www.moma.org/media/W1siZiIsIjk3Il0sWyJwIiwiY29udmVydCIsIi1yZXNpemUgMzAweDMwMFx1MDAzZSJdXQ.jpg?sha=55b65fa4368fe00a', '', '', '', '40.6401', '', '', '29.8451', '', ''], ['Villa near Vienna Project, Outside Vienna, Austria, Elevation', 'Emil Hoppe', '7605', '(Austrian, 1876–1957)', 'Austrian', '(1876)', '(1957)', 'Male', '1903', 'Graphite, pen, color pencil, ink, and gouache on tracing paper', '13 1/2 x 12 1/2\" (34.3 x 31.8 cm)', 'Gift of Jo Carole and Ronald S. Lauder', '1.1997', 'Architecture', 'Architecture & Design', '1997-01-15', 'Y', '4', 'http://www.moma.org/collection/works/4', 'http://www.moma.org/media/W1siZiIsIjk4Il0sWyJwIiwiY29udmVydCIsIi1yZXNpemUgMzAweDMwMFx1MDAzZSJdXQ.jpg?sha=fdcfca4db3acac1f', '', '', '', '34.3', '', '', '31.8', '', '']]\n",
      "\n",
      "\n",
      "British\n",
      "Japanese\n",
      "Female\n",
      "Male\n"
     ]
    }
   ],
   "source": [
    "for row in moma:\n",
    "    nationality = row[4]\n",
    "    nationality = nationality.title()\n",
    "    if not nationality:\n",
    "        nationality = \"Unknown\"\n",
    "    row[4] = nationality\n",
    "    gender = row[7]\n",
    "    gender = gender.title()\n",
    "    if not gender:\n",
    "        gender = \"Unknown\"\n",
    "    row[7] = gender\n",
    "    \n",
    "print(moma[:3])\n",
    "print('\\n')\n",
    "print(moma[300][4])\n",
    "print(moma[400][4])\n",
    "print(moma[300][7])\n",
    "print(moma[400][7])"
   ]
  },
  {
   "cell_type": "code",
   "execution_count": 6,
   "metadata": {},
   "outputs": [
    {
     "name": "stdout",
     "output_type": "stream",
     "text": [
      "['Austrian', 'French', 'Austrian', 'Unknown', 'Austrian', 'Unknown', 'Unknown', 'Unknown', 'Unknown', 'Unknown', 'Unknown', 'Unknown', 'Unknown', 'Unknown', 'Unknown', 'Unknown', 'Unknown', 'Unknown', 'Unknown', 'Unknown', 'Unknown', 'Unknown', 'Unknown', 'Unknown', 'Unknown', 'Unknown', 'Unknown', 'Unknown', 'Unknown', 'Unknown', 'American', 'Unknown', 'Austrian', 'Unknown', 'Austrian', 'Unknown', 'Austrian', 'Unknown', 'Unknown', 'Unknown', 'Unknown', 'Unknown', 'Unknown', 'Unknown', 'Unknown', 'Unknown', 'Unknown', 'Unknown', 'Unknown', 'Unknown', 'Unknown', 'Unknown', 'Unknown', 'Unknown', 'Unknown', 'Unknown', 'Unknown', 'Unknown', 'Unknown', 'Unknown', 'Unknown', 'Unknown', 'Unknown', 'German', 'American', 'American ', 'Dutch Dutch', 'American', 'Unknown', 'American', 'Unknown', 'American', 'American', 'American', 'American', 'American', 'Italian Italian Italian', 'American', 'Swedish', 'Swedish', 'Swedish', 'Swedish', 'Swedish', 'Swedish', 'Swedish', 'Swedish', 'Swedish', 'Swedish', 'Swedish', 'Swedish', 'Swedish', 'Swedish', 'Swedish', 'Swedish', 'Swedish', 'Swedish', 'Swedish', 'Swedish', 'Swedish', 'Swedish', 'Swedish', 'Swedish', 'Swedish', 'Swedish', 'Swedish', 'Swedish', 'Swedish', 'Swedish Swedish', 'Swedish', 'Swedish', 'American French American', 'American French American', 'American American French', 'American French American', 'American', 'American', 'American', 'American', 'American', 'American', 'American', 'American', 'American', 'American', 'American', 'American', 'American', 'American', 'American', 'American', 'American', 'American', 'American', 'American', 'American', 'American', 'American', 'American', 'American', 'American', 'American', 'American', 'American', 'American', 'American', 'American', 'American', 'American', 'American', 'American', 'British', 'American American American', 'British', 'Japanese', 'Dutch British British Dutch', 'American', 'American', 'American', 'American', 'Italian', 'American American American', 'American American American American', 'American American American American', 'American American American American', 'American American American American', 'Argentine', 'American', 'Japanese', 'Japanese', 'Japanese', 'Japanese', 'Japanese', 'Japanese', 'Japanese', 'Japanese', 'Japanese', 'Japanese', 'Japanese', 'Dutch Dutch', 'Japanese', 'Japanese', 'Japanese', 'Japanese', 'Japanese', 'Unknown', 'American', 'American', 'American', 'American', 'American', 'American', 'American', 'American', 'American', 'American', 'Brazilian Brazilian', 'Brazilian Brazilian', 'American', 'American', 'American', 'Swiss', 'Swiss', 'Swiss', 'Swiss', 'Swiss', 'Swiss', 'American', 'Swiss', 'American', 'Swiss', 'Swiss', 'Swiss', 'Swiss', 'Swiss', 'Swiss', 'Swiss', 'Swiss', 'Swiss', 'Swiss', 'Swiss', 'Swiss', 'Swiss', 'Swiss', 'Swiss', 'American', 'Italian', 'American', 'American', 'Brazilian', 'American', 'Luxembourgish', 'American', 'American', 'American', 'American', 'American', 'American', 'American', 'American American', 'American American', 'American American', ' American American', 'Dutch British British Dutch', 'Italian', 'American', 'American', 'Italian', 'American', 'American', 'American', 'American', 'American', 'Swedish', 'Swedish Swedish', 'Italian Italian Italian', 'Luxembourgish', 'Luxembourgish', 'Luxembourgish', 'American', 'American', 'American', 'American', 'American', 'American', 'American', 'American', 'Italian Italian Italian', 'Italian Italian Italian', 'Italian Italian Italian Italian Italian', 'American', 'Argentine', 'Argentine', 'Japanese', 'Japanese', 'Japanese', 'Japanese', 'American', 'Japanese', 'American', 'Italian', 'American', 'American', 'American', 'American', 'American', 'American', 'American', 'Italian', 'American', 'Swiss', 'Spanish', 'Spanish', 'British', 'British', 'British', 'British', 'British', 'British', 'British', 'British', 'British', 'British', 'British', 'British', 'British', 'British', 'British', 'British', 'British', 'British', 'British', 'British', 'British', 'British', 'British', 'British', 'American American, Born China', 'Japanese', 'American', 'American', 'Dutch British Dutch British', 'American', 'Dutch British Dutch British', 'American', 'American', 'American', 'American', 'American', 'American', 'Dutch British Dutch British', 'American', 'American', 'Dutch British Dutch British', 'American', 'Dutch British Dutch British', 'American', 'Dutch British Dutch British', 'American', 'Dutch British Dutch British', 'American', 'American', 'Dutch British Dutch British', 'American', 'Argentine', 'Dutch British Dutch British', 'American', 'Argentine', 'Dutch British Dutch British', 'American', 'American', 'Argentine', 'Dutch British Dutch British', 'American', 'American', 'Japanese', 'Dutch British Dutch British', 'American', 'American', 'Italian', 'Dutch British Dutch British', 'American', 'American', 'Spanish', 'Dutch British Dutch British', 'American', 'Swiss', 'Dutch British Dutch British', 'American', 'American American American', 'Dutch British Dutch British', 'American', 'Spanish', 'American', 'Luxembourgish', 'American', 'Spanish', 'Austrian Polish', 'American', 'American', 'Spanish', 'American', 'American', 'American', 'Spanish', 'American', 'American', 'American', 'Spanish', 'Austrian', 'American', 'American', 'Spanish', 'Luxembourgish', 'American', 'American', 'Spanish', 'American American', 'American', 'American', 'Spanish  ', 'Japanese', 'American', 'American', 'Spanish', 'Unknown', 'American', 'American', 'Spanish', 'American', 'American', 'American', 'American', 'American', 'American', 'Spanish', 'American', 'American', 'American', 'Spanish', 'American', 'American', 'American', 'Dutch', 'Spanish', 'American', 'American', 'American', 'Dutch', 'Spanish', 'American', 'American', 'American', 'British', 'Spanish', 'American', 'American', 'American', 'British', 'Spanish', 'American', 'American', 'American', 'British', 'Russian', 'Austrian Polish', 'American', 'American', 'American', 'British', 'Luxembourgish', 'American American American', 'American American American American', 'American', 'American', 'British', 'Luxembourgish', 'American', 'American', 'American', 'British', 'Luxembourgish', 'Iranian', 'American', 'American', 'Luxembourgish', 'American', 'American', 'Luxembourgish', 'American', 'American', 'Luxembourgish', 'American', 'American', 'Luxembourgish', 'American', 'American', 'Luxembourgish', 'American', 'American', 'Luxembourgish', 'American', 'American', 'French', 'American', 'American', 'American', 'American', 'American', 'American', 'American', 'American', 'American', 'American', 'American', 'American', 'American', 'American', 'American', 'American', 'American']\n"
     ]
    }
   ],
   "source": [
    "nationality = []\n",
    "for row in moma:\n",
    "    nationality.append(row[4])\n",
    "\n",
    "print(nationality[:500])"
   ]
  },
  {
   "cell_type": "code",
   "execution_count": 7,
   "metadata": {},
   "outputs": [
    {
     "name": "stdout",
     "output_type": "stream",
     "text": [
      "['Austrian', 'French', 'Austrian', 'Unknown', 'Austrian']\n"
     ]
    }
   ],
   "source": [
    "def process_data(nationality):\n",
    "    if ' ' in nationality:\n",
    "        nationality_split = nationality.split(' ')\n",
    "        nationality_1 = nationality_split[0]\n",
    "        nationality = nationality_1\n",
    "    else:\n",
    "        return nationality\n",
    "    return nationality\n",
    "\n",
    "for row in moma:\n",
    "    nationality = row[4]\n",
    "    nationality = process_data(nationality)\n",
    "    row[4] = nationality\n",
    "    \n",
    "n = []\n",
    "for row in moma:\n",
    "    n.append(row[4])\n",
    "\n",
    "print(n[:5])"
   ]
  },
  {
   "cell_type": "code",
   "execution_count": 8,
   "metadata": {},
   "outputs": [],
   "source": [
    "for row in moma:\n",
    "    nationality = row[4]\n",
    "    if nationality == 'South':\n",
    "        nationality = 'South African'\n",
    "    if nationality == 'Puerto':\n",
    "        nationality = 'Puerto Rican'\n",
    "    if nationality == 'New':\n",
    "        nationality = 'New Zealander'\n",
    "    if nationality == 'Native':\n",
    "        nationality = 'Native American'\n",
    "    if nationality == ' ':\n",
    "        nationality = 'Unknown'\n",
    "    if nationality == '':\n",
    "        nationality = 'Unknown'\n",
    "    if nationality == 'Nationality':\n",
    "        nationality = 'Unknown'\n",
    "    row[4] = nationality"
   ]
  },
  {
   "cell_type": "code",
   "execution_count": 9,
   "metadata": {},
   "outputs": [
    {
     "name": "stdout",
     "output_type": "stream",
     "text": [
      "['Male', 'Male', 'Male', 'Male', 'Male', 'Male', 'Male', 'Male', 'Male', 'Male', 'Male', 'Male', 'Male', 'Male', 'Male', 'Male', 'Male', 'Male', 'Male', 'Male', 'Male', 'Male', 'Male', 'Male', 'Male', 'Male', 'Male', 'Male', 'Male', 'Male', 'Male', 'Male', 'Male', 'Male', 'Male', 'Male', 'Male', 'Male', 'Male', 'Male', 'Male', 'Male', 'Male', 'Male', 'Male', 'Male', 'Male', 'Male', 'Male', 'Male', 'Male', 'Male', 'Male', 'Male', 'Male', 'Male', 'Male', 'Male', 'Male', 'Male', 'Male', 'Male', 'Male', 'Male', 'Male', 'Male Male', 'Male Female', 'Male', 'Male', 'Male', 'Male', 'Male', 'Male', 'Male', 'Male', 'Male', 'Male Male Male', 'Male', 'Male', 'Male', 'Male', 'Male', 'Male', 'Male', 'Male', 'Male', 'Male', 'Male', 'Male', 'Male', 'Male', 'Male', 'Male', 'Male', 'Male', 'Male', 'Male', 'Male', 'Male', 'Male', 'Male', 'Male', 'Male', 'Male', 'Male', 'Male', 'Male', 'Male Male', 'Male', 'Male', 'Male Male Male', 'Male Male Male', 'Male Male Male', 'Male Male Male', 'Male', 'Male', 'Male', 'Male', 'Male', 'Male', 'Male', 'Male', 'Male', 'Male', 'Male', 'Male', 'Male', 'Male', 'Male', 'Male', 'Male', 'Male', 'Male', 'Male', 'Male', 'Male', 'Male', 'Male', 'Male', 'Male', 'Male', 'Male', 'Male', 'Male', 'Male', 'Male', 'Male', 'Male', 'Male', 'Male', 'Male', ' Female Male', 'Female', 'Male', 'Male Female Male Female', 'Male', 'Male', 'Male', 'Male', 'Male', ' Male Male', ' Male Male Female', ' Male Male Female', ' Male Male Female', ' Male Male Female', 'Male', 'Male', 'Male', 'Male', 'Male', 'Male', 'Male', 'Male', 'Male', 'Male', 'Male', 'Male', 'Male', 'Male Male', 'Male', 'Male', 'Male', 'Male', 'Male', 'Male', 'Male', 'Male', 'Male', 'Male', 'Male', 'Male', 'Male', 'Male', 'Male', 'Male', 'Male Male', 'Male Male', 'Male', 'Male', 'Male', 'Male', 'Male', 'Male', 'Male', 'Male', 'Male', 'Male', 'Male', 'Male', 'Male', 'Male', 'Male', 'Male', 'Male', 'Male', 'Male', 'Male', 'Male', 'Male', 'Male', 'Male', 'Male', 'Male', 'Male', 'Male', 'Male', 'Male', 'Male', 'Male', 'Male', 'Male', 'Male', 'Male', 'Male', 'Male', 'Male', 'Male', 'Male', 'Male Male', 'Male Male', 'Male Male', ' Male Male', 'Male Male Female Female', 'Male', 'Male', 'Male', 'Male', 'Male', 'Male', 'Male', 'Male', 'Male', 'Male', 'Male Male', 'Male Male Male', 'Male', 'Male', 'Male', 'Male', 'Male', 'Male', 'Male', 'Male', 'Male', 'Male', 'Male', 'Male Male Male', 'Male Male Male', 'Male Male Male Male Male', 'Male', 'Male', 'Male', 'Male', 'Male', 'Male', 'Male', 'Male', 'Male', 'Male', 'Male', 'Male', 'Male', 'Male', 'Male', 'Male', 'Male', 'Male', 'Male', 'Male', 'Male', 'Male', 'Male', 'Male', 'Male', 'Male', 'Female', 'Female', 'Female', 'Female', 'Female', 'Female', 'Female', 'Female', 'Female', 'Female', 'Female', 'Female', 'Female', 'Female', 'Female', 'Female', 'Female', 'Female', 'Female', 'Female', 'Female', 'Male Female', 'Male', 'Male', 'Male', 'Male Male Female Female', 'Male', 'Male Male Female Female', 'Male', 'Male', 'Male', 'Male', 'Male', 'Male', 'Male Male Female Female', 'Male', 'Male', 'Male Male Female Female', 'Male', 'Male Male Female Female', 'Male', 'Male Male Female Female', 'Male', 'Male Male Female Female', 'Male', 'Male', 'Male Male Female Female', 'Male', 'Male', 'Male Male Female Female', 'Male', 'Male', 'Male Male Female Female', 'Male', 'Male', 'Male', 'Male Male Female Female', 'Male', 'Male', 'Male', 'Male Male Female Female', 'Male', 'Male', 'Male', 'Male Male Female Female', 'Male', 'Male', 'Male', 'Male Male Female Female', 'Male', 'Male', 'Male Male Female Female', 'Male', ' Female Male', 'Male Male Female Female', 'Male', 'Male', 'Male', 'Male', 'Male', 'Male', 'Male Male', 'Male', 'Male', 'Male', 'Male', 'Male', 'Male', 'Male', 'Male', 'Male', 'Male', 'Male', 'Male', 'Male', 'Male', 'Male', 'Male', 'Male', 'Male', 'Male', 'Male Female', 'Male', 'Male', 'Male Male Male', 'Male', 'Male', 'Male', 'Male', 'Male', 'Male', 'Male', 'Male', 'Male', 'Male', 'Male', 'Male', 'Male', 'Male', 'Male', 'Male', 'Male', 'Male', 'Male', 'Male', 'Male', 'Male', 'Male', 'Male', 'Male', 'Male', 'Male', 'Male', 'Male', 'Male', 'Male', 'Male', 'Male', 'Male', 'Male', 'Male', 'Male', 'Male', 'Male', 'Male', 'Male', 'Male', 'Male', 'Male', 'Male Male', 'Male', 'Male', 'Male', 'Male', 'Male', ' Male Male', 'Male Female Female Male', 'Male', 'Male', 'Male', 'Male', 'Male', 'Male', 'Male', 'Male', 'Male', 'Male', 'Male', 'Male', 'Male', 'Male', 'Male', 'Male', 'Male', 'Male', 'Male', 'Male', 'Male', 'Male', 'Male', 'Male', 'Male', 'Male', 'Male', 'Male', 'Male', 'Male', 'Male', 'Male', 'Male', 'Male', 'Male', 'Male', 'Male', 'Male', 'Male', 'Male', 'Male', 'Male', 'Male', 'Male', 'Male', 'Male', 'Male', 'Male']\n"
     ]
    }
   ],
   "source": [
    "gender = []\n",
    "for row in moma:\n",
    "    gender.append(row[7])\n",
    "\n",
    "print(gender[:500])"
   ]
  },
  {
   "cell_type": "code",
   "execution_count": 10,
   "metadata": {},
   "outputs": [
    {
     "name": "stdout",
     "output_type": "stream",
     "text": [
      "['Male', 'Male', 'Male', 'Male', 'Male']\n"
     ]
    }
   ],
   "source": [
    "def process_data(gender):\n",
    "    if ' ' in gender:\n",
    "        gender_split = gender.split(' ')\n",
    "        gender_1 = gender_split[0]\n",
    "        gender = gender_1\n",
    "    else:\n",
    "        return gender\n",
    "    return gender\n",
    "\n",
    "for row in moma:\n",
    "    gender = row[7]\n",
    "    gender = process_data(gender)\n",
    "    row[7] = gender\n",
    "    \n",
    "g = []\n",
    "for row in moma:\n",
    "    g.append(row[7])\n",
    "\n",
    "print(g[:5])"
   ]
  },
  {
   "cell_type": "code",
   "execution_count": 11,
   "metadata": {},
   "outputs": [],
   "source": [
    "for row in moma:\n",
    "    gender = row[7]\n",
    "    if gender == ' ':\n",
    "        gender = 'Unknown'\n",
    "    if gender == '':\n",
    "        gender = 'Unknown'\n",
    "    row[7] = gender"
   ]
  },
  {
   "cell_type": "markdown",
   "metadata": {},
   "source": [
    "### 3. Analyze the Data"
   ]
  },
  {
   "cell_type": "code",
   "execution_count": 12,
   "metadata": {
    "scrolled": true
   },
   "outputs": [
    {
     "name": "stdout",
     "output_type": "stream",
     "text": [
      "{'Austrian': 1021, 'French': 22904, 'Unknown': 8411, 'American': 60881, 'German': 9711, 'Dutch': 1717, 'Italian': 3086, 'Swedish': 290, 'British': 6111, 'Japanese': 2674, 'Argentine': 987, 'Brazilian': 847, 'Swiss': 2327, 'Luxembourgish': 44, 'Spanish': 3158, 'Russian': 2378, 'Iranian': 20, 'Finnish': 230, 'Danish': 517, 'Belgian': 1482, 'Czech': 773, 'Moroccan': 16, 'Coptic': 3, 'Persian': 1, 'Canadian': 945, 'Colombian': 745, 'Australian': 271, 'Chinese': 280, 'Mexican': 1344, 'Yugoslav': 164, 'Scottish': 62, 'Hungarian': 156, 'Polish': 552, 'Slovenian': 38, 'Chilean': 602, 'Latvian': 70, 'Greek': 55, 'Israeli': 362, 'Czechoslovakian': 5, 'Icelandic': 52, 'Croatian': 154, 'Norwegian': 188, 'Ukrainian': 83, 'Cuban': 213, 'Romanian': 73, 'Venezuelan': 489, 'Uruguayan': 106, 'Georgian': 11, 'Thai': 31, 'Algerian': 6, 'Guatemalan': 71, 'Indian': 197, 'Irish': 37, 'Costa': 64, 'Korean': 104, 'Ethiopian': 6, 'Kuwaiti': 1, 'Haitian': 21, 'South African': 431, 'Zimbabwean': 15, 'Ecuadorian': 8, 'Portuguese': 164, 'Panamanian': 4, 'Peruvian': 116, 'Congolese': 23, 'Malian': 21, 'Turkish': 52, 'Cambodian': 8, 'Bosnian': 21, 'Slovak': 9, 'Estonian': 2, 'Pakistani': 50, 'Bulgarian': 12, 'Bolivian': 4, 'Palestinian': 5, 'Taiwanese': 5, 'Paraguayan': 2, 'Nicaraguan': 2, 'Tunisian': 13, 'Sudanese': 51, 'Tanzanian': 1, 'Guyanese': 1, 'Senegalese': 2, 'Bahamian': 3, 'Lebanese': 63, 'Kenyan': 12, 'Nigerian': 17, 'Egyptian': 60, 'Albanian': 23, 'Azerbaijani': 1, 'Ivorian': 483, 'Malaysian': 7, 'Serbian': 31, 'Singaporean': 2, 'Lithuanian': 21, 'Tajik': 1, 'New Zealander': 19, 'Namibian': 2, 'Native American': 2, 'Ghanaian': 3, 'Afghan': 1, 'Kyrgyzstani': 1, 'Ugandan': 1, 'Cameroonian': 13, 'Welsh': 4, 'Mauritanian': 1, 'Iraqi': 1, 'Macedonian': 13, 'Puerto Rican': 14, 'Vietnamese': 1, 'Kazakhstani': 2, 'Filipino': 7, 'Syrian': 1, 'Bangladeshi': 2, 'Burkinabe': 26, 'Beninese': 3, 'Sierra': 1, 'Emirati': 5, 'Salvadoran': 2}\n"
     ]
    }
   ],
   "source": [
    "nationality_freq = {}\n",
    "\n",
    "for row in moma:\n",
    "    nationality = row[4]\n",
    "    if nationality not in nationality_freq:\n",
    "        nationality_freq[nationality] = 1\n",
    "    else:\n",
    "        nationality_freq[nationality] += 1\n",
    "\n",
    "print(nationality_freq)"
   ]
  },
  {
   "cell_type": "code",
   "execution_count": 13,
   "metadata": {
    "scrolled": false
   },
   "outputs": [
    {
     "name": "stdout",
     "output_type": "stream",
     "text": [
      "American : 43.793609460645385\n",
      "French : 16.47556431541239\n",
      "German : 6.985426347667209\n",
      "Unknown : 6.0502956451682515\n",
      "British : 4.395833633054712\n",
      "Spanish : 2.2716482757628507\n",
      "Italian : 2.219856421470601\n",
      "Japanese : 1.923491921909393\n",
      "Russian : 1.7105698542634766\n",
      "Swiss : 1.673883957473133\n",
      "Dutch : 1.2350918586082378\n",
      "Belgian : 1.066049000848811\n",
      "Mexican : 0.9667812801219986\n",
      "Austrian : 0.7344372671164885\n",
      "Argentine : 0.7099800025895927\n",
      "Canadian : 0.6797680875857802\n",
      "Brazilian : 0.6092736192435512\n",
      "Czech : 0.5560431023320721\n",
      "Colombian : 0.5359018256628638\n",
      "Chilean : 0.4330374483879786\n",
      "Polish : 0.39707088290724946\n",
      "Danish : 0.37189428707073907\n",
      "Venezuelan : 0.35175301040153073\n",
      "Ivorian : 0.34743702254384323\n",
      "South African : 0.31003179444388496\n",
      "Israeli : 0.2603979340804788\n",
      "Swedish : 0.20860607978822887\n",
      "Chinese : 0.20141276669208302\n",
      "Australian : 0.1949387849055518\n",
      "Finnish : 0.16544620121135392\n",
      "Cuban : 0.15321756894790603\n",
      "Indian : 0.1417082679940727\n",
      "Norwegian : 0.13523428620754147\n",
      "Yugoslav : 0.1179703347767915\n",
      "Portuguese : 0.1179703347767915\n",
      "Hungarian : 0.11221568429987483\n",
      "Croatian : 0.11077702168064568\n",
      "Peruvian : 0.08344243191529155\n",
      "Uruguayan : 0.07624911881914573\n",
      "Korean : 0.07481045619991657\n",
      "Ukrainian : 0.059704498698010325\n",
      "Romanian : 0.052511185601864505\n",
      "Guatemalan : 0.05107252298263534\n",
      "Latvian : 0.050353191673020756\n",
      "Costa : 0.046037203815333265\n",
      "Lebanese : 0.045317872505718684\n",
      "Scottish : 0.0445985411961041\n",
      "Egyptian : 0.043159878576874935\n",
      "Greek : 0.039563222028802025\n",
      "Turkish : 0.03740522809995828\n",
      "Icelandic : 0.03740522809995828\n",
      "Sudanese : 0.036685896790343696\n",
      "Pakistani : 0.035966565480729115\n",
      "Luxembourgish : 0.031650577623041624\n",
      "Slovenian : 0.027334589765354127\n",
      "Irish : 0.026615258455739546\n",
      "Thai : 0.02229927059805205\n",
      "Serbian : 0.02229927059805205\n",
      "Burkinabe : 0.01870261404997914\n",
      "Congolese : 0.016544620121135393\n",
      "Albanian : 0.016544620121135393\n",
      "Malian : 0.015105957501906228\n",
      "Lithuanian : 0.015105957501906228\n",
      "Haitian : 0.015105957501906228\n",
      "Bosnian : 0.015105957501906228\n",
      "Iranian : 0.014386626192291647\n",
      "New Zealander : 0.013667294882677063\n",
      "Nigerian : 0.012228632263447899\n",
      "Moroccan : 0.011509300953833316\n",
      "Zimbabwean : 0.010789969644218734\n",
      "Puerto Rican : 0.010070638334604151\n",
      "Tunisian : 0.00935130702498957\n",
      "Macedonian : 0.00935130702498957\n",
      "Cameroonian : 0.00935130702498957\n",
      "Kenyan : 0.008631975715374988\n",
      "Bulgarian : 0.008631975715374988\n",
      "Georgian : 0.007912644405760406\n",
      "Slovak : 0.00647398178653124\n",
      "Ecuadorian : 0.005754650476916658\n",
      "Cambodian : 0.005754650476916658\n",
      "Malaysian : 0.005035319167302076\n",
      "Filipino : 0.005035319167302076\n",
      "Ethiopian : 0.004315987857687494\n",
      "Algerian : 0.004315987857687494\n",
      "Taiwanese : 0.003596656548072912\n",
      "Palestinian : 0.003596656548072912\n",
      "Emirati : 0.003596656548072912\n",
      "Czechoslovakian : 0.003596656548072912\n",
      "Welsh : 0.002877325238458329\n",
      "Panamanian : 0.002877325238458329\n",
      "Bolivian : 0.002877325238458329\n",
      "Ghanaian : 0.002157993928843747\n",
      "Coptic : 0.002157993928843747\n",
      "Beninese : 0.002157993928843747\n",
      "Bahamian : 0.002157993928843747\n",
      "Singaporean : 0.0014386626192291645\n",
      "Senegalese : 0.0014386626192291645\n",
      "Salvadoran : 0.0014386626192291645\n",
      "Paraguayan : 0.0014386626192291645\n",
      "Nicaraguan : 0.0014386626192291645\n",
      "Native American : 0.0014386626192291645\n",
      "Namibian : 0.0014386626192291645\n",
      "Kazakhstani : 0.0014386626192291645\n",
      "Estonian : 0.0014386626192291645\n",
      "Bangladeshi : 0.0014386626192291645\n",
      "Vietnamese : 0.0007193313096145823\n",
      "Ugandan : 0.0007193313096145823\n",
      "Tanzanian : 0.0007193313096145823\n",
      "Tajik : 0.0007193313096145823\n",
      "Syrian : 0.0007193313096145823\n",
      "Sierra : 0.0007193313096145823\n",
      "Persian : 0.0007193313096145823\n",
      "Mauritanian : 0.0007193313096145823\n",
      "Kyrgyzstani : 0.0007193313096145823\n",
      "Kuwaiti : 0.0007193313096145823\n",
      "Iraqi : 0.0007193313096145823\n",
      "Guyanese : 0.0007193313096145823\n",
      "Azerbaijani : 0.0007193313096145823\n",
      "Afghan : 0.0007193313096145823\n"
     ]
    }
   ],
   "source": [
    "def freq_table(dataset, index):\n",
    "    table = {}\n",
    "    total = 0\n",
    "    \n",
    "    for row in dataset:\n",
    "        total += 1\n",
    "        value = row[index]\n",
    "        if value in table:\n",
    "            table[value] += 1\n",
    "        else:\n",
    "            table[value] = 1\n",
    "    \n",
    "    table_percentages = {}\n",
    "    for key in table:\n",
    "        percentage = (table[key] / total) * 100\n",
    "        table_percentages[key] = percentage \n",
    "    \n",
    "    return table_percentages\n",
    "\n",
    "\n",
    "def display_table(dataset, index):\n",
    "    table = freq_table(dataset, index)\n",
    "    table_display = []\n",
    "    for key in table:\n",
    "        key_val_as_tuple = (table[key], key)\n",
    "        table_display.append(key_val_as_tuple)\n",
    "        \n",
    "    table_sorted = sorted(table_display, reverse = True)\n",
    "    for entry in table_sorted:\n",
    "        print(entry[1], ':', entry[0])\n",
    "        \n",
    "display_table(moma, 4)"
   ]
  },
  {
   "cell_type": "markdown",
   "metadata": {},
   "source": [
    "![](MOMA_Nationality_Chart.png)"
   ]
  },
  {
   "cell_type": "code",
   "execution_count": 14,
   "metadata": {},
   "outputs": [
    {
     "name": "stdout",
     "output_type": "stream",
     "text": [
      "{'Male': 109722, 'Unknown': 10353, 'Female': 18942, 'Non-Binary': 1}\n",
      "\n",
      "\n",
      "There are 109,722 artworks by Male artists\n",
      "There are 10,353 artworks by Unknown artists\n",
      "There are 18,942 artworks by Female artists\n",
      "There are 1 artworks by Non-Binary artists\n"
     ]
    }
   ],
   "source": [
    "gender_freq = {}\n",
    "\n",
    "for row in moma:\n",
    "    gender = row[7]\n",
    "    if gender not in gender_freq:\n",
    "        gender_freq[gender] = 1\n",
    "    else:\n",
    "        gender_freq[gender] += 1\n",
    "\n",
    "print(gender_freq)\n",
    "print('\\n')\n",
    "for gender, artworks in gender_freq.items():\n",
    "    template = \"There are {a:,} artworks by {g} artists\"\n",
    "    print(template.format(g=gender, a=artworks))\n"
   ]
  },
  {
   "cell_type": "code",
   "execution_count": 15,
   "metadata": {
    "scrolled": false
   },
   "outputs": [
    {
     "name": "stdout",
     "output_type": "stream",
     "text": [
      "Male : 78.9264699535312\n",
      "Female : 13.625573666719418\n",
      "Unknown : 7.44723704843977\n",
      "Non-Binary : 0.0007193313096145823\n"
     ]
    }
   ],
   "source": [
    "def freq_table(dataset, index):\n",
    "    table = {}\n",
    "    total = 0\n",
    "    \n",
    "    for row in dataset:\n",
    "        total += 1\n",
    "        value = row[index]\n",
    "        if value in table:\n",
    "            table[value] += 1\n",
    "        else:\n",
    "            table[value] = 1\n",
    "    \n",
    "    table_percentages = {}\n",
    "    for key in table:\n",
    "        percentage = (table[key] / total) * 100\n",
    "        table_percentages[key] = percentage \n",
    "    \n",
    "    return table_percentages\n",
    "\n",
    "\n",
    "def display_table(dataset, index):\n",
    "    table = freq_table(dataset, index)\n",
    "    table_display = []\n",
    "    for key in table:\n",
    "        key_val_as_tuple = (table[key], key)\n",
    "        table_display.append(key_val_as_tuple)\n",
    "        \n",
    "    table_sorted = sorted(table_display, reverse = True)\n",
    "    for entry in table_sorted:\n",
    "        print(entry[1], ':', entry[0])\n",
    "        \n",
    "display_table(moma, 7)"
   ]
  },
  {
   "cell_type": "markdown",
   "metadata": {},
   "source": [
    "![](http://localhost:8888/view/DataQuest/MOMA_Gender_Chart.png)"
   ]
  },
  {
   "cell_type": "markdown",
   "metadata": {},
   "source": [
    "### 4. Conclusion\n",
    "\n",
    "I have briefly analyzed the nationality and gender representations of the data available from artworks exhibited over the last 150 years at [New York's Museum of Modern Art](https://github.com/MuseumofModernArt/collection). My analysis is the following:\n",
    "\n",
    "#### What does the makeup of the artwork look like in terms of artist nationality, and gender?\n",
    "\n",
    "It is clear that American artists are predominantly represented in this museum. American work makes up 44% of the artwork represented in this data. This is more than the other top four countries represented combined. This may be because it is an American museum, therefore, an analysis of modern art museums accross the world may help understand if this is a pattern accross the world, or if different countries display their nations artwork as predominantly as it is done in this museum. It is also important to note that four out of the five countries most represented in the artwork on display is from European the countries of France, Germany, Britain, and Sapin. In fact, out of that region, only Japan makes the top ten countries. There are various reasons why this may be the case and an important analysis to evaluate this further would be to look at the changes throughout time. Some important questions to ask are:\n",
    "\n",
    "- Has the representation of more nationalities increased or decreased throughout the years? \n",
    "- What are the methods for curating artwork and where are the gaps for nationality representation? Is there enough interest, submissions, selections for different countries around the world and how has that changed throughout the years?\n",
    "\n",
    "Similary, male artists are predominantly represented in this museum. Male work makes up 79% of the artwork represented in this data. This is more than three times the work of the Female, Unknown, and non-binary gender artwork represented combined. In order to determine if this is a pattern evident accross all of the museums in the world, a comparative analysis of gender representation in modern art museums, may help understand if this is the norm, or if different countries display artwork of diverse gender identities in a more equitable and inclusive way. There are various reasons why male representation is more predominant, and an important analysis to evaluate this further would be to look at the changes throughout the museum's time. Some important questions to ask are:\n",
    "\n",
    "- Has the representation of gender identities other that male, increased or decreased throughout the years? \n",
    "- What are the methods for curating artwork and where are the gaps for gender representation? Is there enough interest, submissions, selections for different gender identities around the world and how has that changed throughout the years?\n",
    "\n",
    "#### What other interesting information may be seen from the data collected?\n",
    "\n",
    "The vast data collected by New York's Museum of Modern Art may help understand what has influenced the representaation of diverse nationalities and gender identities throughout different periods of time. Looking at changes in artwork representation throughout history may provide clues as to whether efforts have been more or less inclusive throughout history and what may be effective in attracting more diverse artists, and what may be done within the museum to achieve more diversity and inclusion in the artists represented."
   ]
  }
 ],
 "metadata": {
  "kernelspec": {
   "display_name": "Python 3",
   "language": "python",
   "name": "python3"
  },
  "language_info": {
   "codemirror_mode": {
    "name": "ipython",
    "version": 3
   },
   "file_extension": ".py",
   "mimetype": "text/x-python",
   "name": "python",
   "nbconvert_exporter": "python",
   "pygments_lexer": "ipython3",
   "version": "3.7.3"
  }
 },
 "nbformat": 4,
 "nbformat_minor": 2
}
