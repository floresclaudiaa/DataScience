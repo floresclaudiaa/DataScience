{
 "cells": [
  {
   "cell_type": "markdown",
   "metadata": {},
   "source": [
    "# Exploring Hacker News Posts\n",
    "\n",
    "In this project I will provide a comparative analysis of [Hacker News Posts](https://www.kaggle.com/hacker-news/hacker-news-posts). I will focus on the user engagement of Ask HN and Show HN Posts in comparison to the average posts to answer the following questions:\n",
    "\n",
    "### Do Ask HN or Show HN posts receive more comments on average?\n",
    "\n",
    "### Do posts submitted at certain times receive more comments on average?\n",
    "\n",
    "#### To accomplish this I will do the following:\n",
    "\n",
    "1. Explore the Data\n",
    "2. Clean the Data\n",
    "3. Analyze the Data\n",
    "4. Make Conclusions from my analysis\n",
    "\n",
    "### 1. Explore the Data"
   ]
  },
  {
   "cell_type": "code",
   "execution_count": 1,
   "metadata": {},
   "outputs": [
    {
     "data": {
      "text/plain": [
       "[['id', 'title', 'url', 'num_points', 'num_comments', 'author', 'created_at'],\n",
       " ['12579008',\n",
       "  'You have two days to comment if you want stem cells to be classified as your own',\n",
       "  'http://www.regulations.gov/document?D=FDA-2015-D-3719-0018',\n",
       "  '1',\n",
       "  '0',\n",
       "  'altstar',\n",
       "  '9/26/2016 3:26'],\n",
       " ['12579005',\n",
       "  'SQLAR  the SQLite Archiver',\n",
       "  'https://www.sqlite.org/sqlar/doc/trunk/README.md',\n",
       "  '1',\n",
       "  '0',\n",
       "  'blacksqr',\n",
       "  '9/26/2016 3:24'],\n",
       " ['12578997',\n",
       "  'What if we just printed a flatscreen television on the side of our boxes?',\n",
       "  'https://medium.com/vanmoof/our-secrets-out-f21c1f03fdc8#.ietxmez43',\n",
       "  '1',\n",
       "  '0',\n",
       "  'pavel_lishin',\n",
       "  '9/26/2016 3:19'],\n",
       " ['12578989',\n",
       "  'algorithmic music',\n",
       "  'http://cacm.acm.org/magazines/2011/7/109891-algorithmic-composition/fulltext',\n",
       "  '1',\n",
       "  '0',\n",
       "  'poindontcare',\n",
       "  '9/26/2016 3:16'],\n",
       " ['12578979',\n",
       "  'How the Data Vault Enables the Next-Gen Data Warehouse and Data Lake',\n",
       "  'https://www.talend.com/blog/2016/05/12/talend-and-Â\\x93the-data-vaultÂ\\x94',\n",
       "  '1',\n",
       "  '0',\n",
       "  'markgainor1',\n",
       "  '9/26/2016 3:14'],\n",
       " ['12578975',\n",
       "  'Saving the Hassle of Shopping',\n",
       "  'https://blog.menswr.com/2016/09/07/whats-new-with-your-style-feed/',\n",
       "  '1',\n",
       "  '1',\n",
       "  'bdoux',\n",
       "  '9/26/2016 3:13'],\n",
       " ['12578954',\n",
       "  \"Macalifa  A new open-source music app for UWP that won't suck\",\n",
       "  'http://forums.windowscentral.com/windows-phone-apps/440523-macalifa-new-open-source-music-app-uwp-wont-suck.html',\n",
       "  '1',\n",
       "  '0',\n",
       "  'thecodrr',\n",
       "  '9/26/2016 3:06'],\n",
       " ['12578942',\n",
       "  'GitHub  theweavrs/Macalifa: A music player written for UWP',\n",
       "  'https://github.com/theweavrs/Macalifa',\n",
       "  '1',\n",
       "  '0',\n",
       "  'thecodrr',\n",
       "  '9/26/2016 3:04'],\n",
       " ['12578919',\n",
       "  'Google Allo  first Impression',\n",
       "  'http://prodissues.com/2016/09/google-allo-first-impression.html',\n",
       "  '3',\n",
       "  '0',\n",
       "  'jandll',\n",
       "  '9/26/2016 2:57']]"
      ]
     },
     "execution_count": 1,
     "metadata": {},
     "output_type": "execute_result"
    }
   ],
   "source": [
    "import csv\n",
    "\n",
    "f = open('HN.csv')\n",
    "hn = list(csv.reader(f))\n",
    "hn[:10]"
   ]
  },
  {
   "cell_type": "markdown",
   "metadata": {},
   "source": [
    "### 2. Clean the Data"
   ]
  },
  {
   "cell_type": "code",
   "execution_count": 2,
   "metadata": {},
   "outputs": [
    {
     "name": "stdout",
     "output_type": "stream",
     "text": [
      "['id', 'title', 'url', 'num_points', 'num_comments', 'author', 'created_at']\n",
      "\n",
      "\n",
      "[['12579008', 'You have two days to comment if you want stem cells to be classified as your own', 'http://www.regulations.gov/document?D=FDA-2015-D-3719-0018', '1', '0', 'altstar', '9/26/2016 3:26'], ['12579005', 'SQLAR  the SQLite Archiver', 'https://www.sqlite.org/sqlar/doc/trunk/README.md', '1', '0', 'blacksqr', '9/26/2016 3:24'], ['12578997', 'What if we just printed a flatscreen television on the side of our boxes?', 'https://medium.com/vanmoof/our-secrets-out-f21c1f03fdc8#.ietxmez43', '1', '0', 'pavel_lishin', '9/26/2016 3:19'], ['12578989', 'algorithmic music', 'http://cacm.acm.org/magazines/2011/7/109891-algorithmic-composition/fulltext', '1', '0', 'poindontcare', '9/26/2016 3:16'], ['12578979', 'How the Data Vault Enables the Next-Gen Data Warehouse and Data Lake', 'https://www.talend.com/blog/2016/05/12/talend-and-Â\\x93the-data-vaultÂ\\x94', '1', '0', 'markgainor1', '9/26/2016 3:14'], ['12578975', 'Saving the Hassle of Shopping', 'https://blog.menswr.com/2016/09/07/whats-new-with-your-style-feed/', '1', '1', 'bdoux', '9/26/2016 3:13'], ['12578954', \"Macalifa  A new open-source music app for UWP that won't suck\", 'http://forums.windowscentral.com/windows-phone-apps/440523-macalifa-new-open-source-music-app-uwp-wont-suck.html', '1', '0', 'thecodrr', '9/26/2016 3:06'], ['12578942', 'GitHub  theweavrs/Macalifa: A music player written for UWP', 'https://github.com/theweavrs/Macalifa', '1', '0', 'thecodrr', '9/26/2016 3:04'], ['12578919', 'Google Allo  first Impression', 'http://prodissues.com/2016/09/google-allo-first-impression.html', '3', '0', 'jandll', '9/26/2016 2:57'], ['12578918', 'Advanced Multimedia on the Linux Command Line', 'https://avi.alkalay.net/2016/09/multimedia-linux-cli.html', '1', '0', 'mynameislegion', '9/26/2016 2:56']]\n"
     ]
    }
   ],
   "source": [
    "headers = hn[0]\n",
    "hn = hn[1:]\n",
    "print(headers)\n",
    "print('\\n')\n",
    "print(hn[:10])"
   ]
  },
  {
   "cell_type": "markdown",
   "metadata": {},
   "source": [
    "### 3. Analyze the Data\n",
    "\n",
    "#### Extract Ask HN and Show HN Posts"
   ]
  },
  {
   "cell_type": "code",
   "execution_count": 3,
   "metadata": {},
   "outputs": [
    {
     "name": "stdout",
     "output_type": "stream",
     "text": [
      "9139\n",
      "10158\n",
      "273822\n"
     ]
    }
   ],
   "source": [
    "ask_hn = []\n",
    "show_hn =[]\n",
    "other_hn = []\n",
    "\n",
    "for post in hn:\n",
    "    title = post[1]\n",
    "    if title.lower().startswith(\"ask hn\"):\n",
    "        ask_hn.append(post)\n",
    "    elif title.lower().startswith(\"show hn\"):\n",
    "        show_hn.append(post)\n",
    "    else:\n",
    "        other_hn.append(post)\n",
    "        \n",
    "\n",
    "print(len(ask_hn))\n",
    "print(len(show_hn))\n",
    "print(len(other_hn))"
   ]
  },
  {
   "cell_type": "markdown",
   "metadata": {},
   "source": [
    "![](https://user-images.githubusercontent.com/50001708/85905687-e9108800-b7c0-11ea-91dc-8dfe6b05acb6.png)"
   ]
  },
  {
   "cell_type": "markdown",
   "metadata": {},
   "source": [
    "#### Calculate Total Number of Comments for Ask HN, Show HN and Other HN Posts"
   ]
  },
  {
   "cell_type": "code",
   "execution_count": 4,
   "metadata": {},
   "outputs": [
    {
     "name": "stdout",
     "output_type": "stream",
     "text": [
      "94986\n",
      "49633\n",
      "1768142\n"
     ]
    }
   ],
   "source": [
    "t_ask = 0\n",
    "\n",
    "for post in ask_hn:\n",
    "    t_ask += int(post[4])\n",
    "    \n",
    "avg_ask = t_ask / len(ask_hn)\n",
    "\n",
    "\n",
    "t_show = 0\n",
    "\n",
    "for post in show_hn:\n",
    "    t_show += int(post[4])\n",
    "    \n",
    "avg_show = t_show / len(show_hn)\n",
    "\n",
    "\n",
    "t_other = 0\n",
    "\n",
    "for post in other_hn:\n",
    "    t_other += int(post[4])\n",
    "    \n",
    "avg_other = t_other / len(other_hn)\n",
    "\n",
    "print(t_ask)\n",
    "print(t_show)\n",
    "print(t_other)"
   ]
  },
  {
   "cell_type": "markdown",
   "metadata": {},
   "source": [
    "![](https://user-images.githubusercontent.com/50001708/85905686-e9108800-b7c0-11ea-9fb5-74ef9af1e809.png)"
   ]
  },
  {
   "cell_type": "markdown",
   "metadata": {},
   "source": [
    "#### Calculate Average Number of Comments for Ask HN, Show HN and Other HN Posts"
   ]
  },
  {
   "cell_type": "code",
   "execution_count": 5,
   "metadata": {
    "scrolled": true
   },
   "outputs": [
    {
     "name": "stdout",
     "output_type": "stream",
     "text": [
      "10.393478498741656\n",
      "4.886099625910612\n",
      "6.4572678601427205\n"
     ]
    }
   ],
   "source": [
    "print(avg_ask)\n",
    "print(avg_show)\n",
    "print(avg_other)"
   ]
  },
  {
   "cell_type": "markdown",
   "metadata": {},
   "source": [
    "![](https://user-images.githubusercontent.com/50001708/85905685-e877f180-b7c0-11ea-96f7-1a86a1a0d7d1.png)"
   ]
  },
  {
   "cell_type": "markdown",
   "metadata": {},
   "source": [
    "#### Calculate the Percentage of Ask HN Posts"
   ]
  },
  {
   "cell_type": "code",
   "execution_count": 6,
   "metadata": {},
   "outputs": [
    {
     "name": "stdout",
     "output_type": "stream",
     "text": [
      "Total Ask HN Posts Percentage\n",
      "0.03117846335447378\n"
     ]
    }
   ],
   "source": [
    "print('Total Ask HN Posts Percentage')\n",
    "print(len(ask_hn) / (len(ask_hn) + len(show_hn) + len(other_hn)))"
   ]
  },
  {
   "cell_type": "markdown",
   "metadata": {},
   "source": [
    "#### Find Amount of Ask HN Posts and Comments by Hour Created\n",
    "\n",
    "Because Ask HN posts have more comments on average compared to Show HN and Other HN posts, my analysis going forward will focus on Ask HN posts. "
   ]
  },
  {
   "cell_type": "code",
   "execution_count": 7,
   "metadata": {},
   "outputs": [
    {
     "data": {
      "text/plain": [
       "{'02': 2996,\n",
       " '01': 2089,\n",
       " '22': 3372,\n",
       " '21': 4500,\n",
       " '19': 3954,\n",
       " '17': 5547,\n",
       " '15': 18525,\n",
       " '14': 4972,\n",
       " '13': 7245,\n",
       " '11': 2797,\n",
       " '10': 3013,\n",
       " '09': 1477,\n",
       " '07': 1585,\n",
       " '03': 2154,\n",
       " '23': 2297,\n",
       " '20': 4462,\n",
       " '16': 4466,\n",
       " '08': 2362,\n",
       " '00': 2277,\n",
       " '18': 4877,\n",
       " '12': 4234,\n",
       " '04': 2360,\n",
       " '06': 1587,\n",
       " '05': 1838}"
      ]
     },
     "execution_count": 7,
     "metadata": {},
     "output_type": "execute_result"
    }
   ],
   "source": [
    "import datetime as dt\n",
    "\n",
    "result_l = []\n",
    "\n",
    "for post in ask_hn:\n",
    "    result_l.append(\n",
    "        [post[6], int(post[4])]\n",
    "    )\n",
    "\n",
    "comments_by_h = {}\n",
    "counts_by_h = {}\n",
    "date_format = \"%m/%d/%Y %H:%M\"\n",
    "\n",
    "for each_r in result_l:\n",
    "    date = each_r[0]\n",
    "    comment = each_r[1]\n",
    "    time = dt.datetime.strptime(date, date_format).strftime(\"%H\")\n",
    "    if time in counts_by_h:\n",
    "        comments_by_h[time] += comment\n",
    "        counts_by_h[time] += 1\n",
    "    else:\n",
    "        comments_by_h[time] = comment\n",
    "        counts_by_h[time] = 1\n",
    "        \n",
    "comments_by_h"
   ]
  },
  {
   "cell_type": "markdown",
   "metadata": {},
   "source": [
    "#### Calculate Average Number of Comments for Ask HN Posts by Hour"
   ]
  },
  {
   "cell_type": "code",
   "execution_count": 8,
   "metadata": {},
   "outputs": [
    {
     "data": {
      "text/plain": [
       "[['02', 11.137546468401487],\n",
       " ['01', 7.407801418439717],\n",
       " ['22', 8.804177545691905],\n",
       " ['21', 8.687258687258687],\n",
       " ['19', 7.163043478260869],\n",
       " ['17', 9.449744463373083],\n",
       " ['15', 28.676470588235293],\n",
       " ['14', 9.692007797270955],\n",
       " ['13', 16.31756756756757],\n",
       " ['11', 8.96474358974359],\n",
       " ['10', 10.684397163120567],\n",
       " ['09', 6.653153153153153],\n",
       " ['07', 7.013274336283186],\n",
       " ['03', 7.948339483394834],\n",
       " ['23', 6.696793002915452],\n",
       " ['20', 8.749019607843136],\n",
       " ['16', 7.713298791018998],\n",
       " ['08', 9.190661478599221],\n",
       " ['00', 7.5647840531561465],\n",
       " ['18', 7.94299674267101],\n",
       " ['12', 12.380116959064328],\n",
       " ['04', 9.7119341563786],\n",
       " ['06', 6.782051282051282],\n",
       " ['05', 8.794258373205741]]"
      ]
     },
     "execution_count": 8,
     "metadata": {},
     "output_type": "execute_result"
    }
   ],
   "source": [
    "avg_by_h = []\n",
    "\n",
    "for hr in comments_by_h:\n",
    "    avg_by_h.append([hr, comments_by_h[hr] / counts_by_h[hr]])\n",
    "\n",
    "avg_by_h"
   ]
  },
  {
   "cell_type": "markdown",
   "metadata": {},
   "source": [
    "#### Sort and Print Values from a List of Lists"
   ]
  },
  {
   "cell_type": "code",
   "execution_count": 9,
   "metadata": {},
   "outputs": [
    {
     "name": "stdout",
     "output_type": "stream",
     "text": [
      "[[11.137546468401487, '02'], [7.407801418439717, '01'], [8.804177545691905, '22'], [8.687258687258687, '21'], [7.163043478260869, '19'], [9.449744463373083, '17'], [28.676470588235293, '15'], [9.692007797270955, '14'], [16.31756756756757, '13'], [8.96474358974359, '11'], [10.684397163120567, '10'], [6.653153153153153, '09'], [7.013274336283186, '07'], [7.948339483394834, '03'], [6.696793002915452, '23'], [8.749019607843136, '20'], [7.713298791018998, '16'], [9.190661478599221, '08'], [7.5647840531561465, '00'], [7.94299674267101, '18'], [12.380116959064328, '12'], [9.7119341563786, '04'], [6.782051282051282, '06'], [8.794258373205741, '05']]\n"
     ]
    },
    {
     "data": {
      "text/plain": [
       "[[28.676470588235293, '15'],\n",
       " [16.31756756756757, '13'],\n",
       " [12.380116959064328, '12'],\n",
       " [11.137546468401487, '02'],\n",
       " [10.684397163120567, '10'],\n",
       " [9.7119341563786, '04'],\n",
       " [9.692007797270955, '14'],\n",
       " [9.449744463373083, '17'],\n",
       " [9.190661478599221, '08'],\n",
       " [8.96474358974359, '11'],\n",
       " [8.804177545691905, '22'],\n",
       " [8.794258373205741, '05'],\n",
       " [8.749019607843136, '20'],\n",
       " [8.687258687258687, '21'],\n",
       " [7.948339483394834, '03'],\n",
       " [7.94299674267101, '18'],\n",
       " [7.713298791018998, '16'],\n",
       " [7.5647840531561465, '00'],\n",
       " [7.407801418439717, '01'],\n",
       " [7.163043478260869, '19'],\n",
       " [7.013274336283186, '07'],\n",
       " [6.782051282051282, '06'],\n",
       " [6.696793002915452, '23'],\n",
       " [6.653153153153153, '09']]"
      ]
     },
     "execution_count": 9,
     "metadata": {},
     "output_type": "execute_result"
    }
   ],
   "source": [
    "swap_avg_by_h = []\n",
    "\n",
    "for row in avg_by_h:\n",
    "    swap_avg_by_h.append([row[1], row[0]])\n",
    "    \n",
    "print(swap_avg_by_h)\n",
    "\n",
    "sorted_swap = sorted(swap_avg_by_h, reverse=True)\n",
    "\n",
    "sorted_swap"
   ]
  },
  {
   "cell_type": "markdown",
   "metadata": {},
   "source": [
    "![](https://user-images.githubusercontent.com/50001708/85905684-e877f180-b7c0-11ea-8d8d-d0907894ef9d.png)"
   ]
  },
  {
   "cell_type": "markdown",
   "metadata": {},
   "source": [
    "#### Top 5 Hours for 'Ask HN' Comments"
   ]
  },
  {
   "cell_type": "code",
   "execution_count": 10,
   "metadata": {},
   "outputs": [
    {
     "name": "stdout",
     "output_type": "stream",
     "text": [
      "Top 5 Hours for 'Ask HN' Comments\n",
      "15:00: 28.68 average comments per post\n",
      "13:00: 16.32 average comments per post\n",
      "12:00: 12.38 average comments per post\n",
      "02:00: 11.14 average comments per post\n",
      "10:00: 10.68 average comments per post\n"
     ]
    }
   ],
   "source": [
    "print(\"Top 5 Hours for 'Ask HN' Comments\")\n",
    "for avg, hr in sorted_swap[:5]:\n",
    "    print(\n",
    "        \"{}: {:.2f} average comments per post\".format(\n",
    "            dt.datetime.strptime(hr, \"%H\").strftime(\"%H:%M\"),avg\n",
    "        )\n",
    "    )"
   ]
  },
  {
   "cell_type": "markdown",
   "metadata": {},
   "source": [
    "### 4. Conclusion\n",
    "\n",
    "I have briefly analyzed the user engagement of Ask HN, Show HN and other posts from the data available at [Hacker News Posts](https://www.kaggle.com/hacker-news/hacker-news-posts). My analysis is the following:\n",
    "\n",
    "#### Do Ask HN or Show HN posts receive more comments on average?\n",
    "\n",
    "Ask HN Posts receive 10.39 comments on average. In comparison, Show HN posts receive 4.89, and other posts receive 6.46 comments on average per post. The data shows that Ask HN posts, receive more comments on average than Show HN and other posts, despite only making up 3% of the total amount of posts on this Hacker News data. \n",
    "\n",
    "#### Do posts submitted at certain times receive more comments on average?\n",
    "\n",
    "In this analysis I only focused on evaluating the amount of comments Ask HN posts receive, given that those posts receive the most amount of comments. The data shows that yes, posts submitted at certain times do receive more comments on average. The top 5 hours that receive the most amount of comments on average per Ask HN post are the following:\n",
    "\n",
    "|Hour| Average Comments per Post |\n",
    "|:------------:|:-----------:|\n",
    "|    3:00 pm      |    28.68  |\n",
    "|1:00 pm  |   16.32  |\n",
    "| 12:00 pm         | 12.38         |\n",
    "| 2:00 am          | 11.14         |\n",
    "| 10:00 am         | 10.68         |\n",
    "\n",
    "As a result, I recommend posting an `Ask HN` post during those times on Hacker News to potentially receive the most amount of user engagement, measured by comments. \n",
    "\n",
    "Other information that could be analyzed from this data is the time that Show HN and other posts receive the most amount of comments. This information may be useful to users that would like to know when different types of posts may receive more user engagement."
   ]
  }
 ],
 "metadata": {
  "kernelspec": {
   "display_name": "Python 3",
   "language": "python",
   "name": "python3"
  },
  "language_info": {
   "codemirror_mode": {
    "name": "ipython",
    "version": 3
   },
   "file_extension": ".py",
   "mimetype": "text/x-python",
   "name": "python",
   "nbconvert_exporter": "python",
   "pygments_lexer": "ipython3",
   "version": "3.7.3"
  }
 },
 "nbformat": 4,
 "nbformat_minor": 2
}
