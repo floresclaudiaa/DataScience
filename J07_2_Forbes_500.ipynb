{
 "cells": [
  {
   "cell_type": "markdown",
   "metadata": {},
   "source": [
    "# Forbes Fortune 500 Companies Data Analysis \n",
    "\n",
    "In this project I will explore the vast data from the world's fortune 500 companies in 2017, available at [data.world](https://data.world/chasewillden/fortune-500-companies-2017). Below I will analyze that data to answer the following questions:\n",
    "\n",
    "### What are the top companies in 2017?\n",
    "\n",
    "### What industries do the top companies represent?\n",
    "\n",
    "### What else can be gathred from this data?\n",
    "\n",
    "\n",
    "To accomplish this I will do the following:\n",
    "\n",
    "1. Explore the Data\n",
    "2. Clean the Data\n",
    "3. Analyze the Data\n",
    "4. Make Conclusions from my analysis\n",
    "\n",
    "### 1. Explore the Data"
   ]
  },
  {
   "cell_type": "code",
   "execution_count": 1,
   "metadata": {},
   "outputs": [
    {
     "name": "stdout",
     "output_type": "stream",
     "text": [
      "               rank  revenues  revenue_change  profits  assets  profit_change  \\\n",
      "Walmart           1    485873             0.8  13643.0  198825           -7.2   \n",
      "State Grid        2    315199            -4.4   9571.3  489838           -6.2   \n",
      "Sinopec Group     3    267518            -9.1   1257.9  310726          -65.0   \n",
      "\n",
      "                               ceo               industry     sector  \\\n",
      "Walmart        C. Douglas McMillon  General Merchandisers  Retailing   \n",
      "State Grid                 Kou Wei              Utilities     Energy   \n",
      "Sinopec Group            Wang Yupu     Petroleum Refining     Energy   \n",
      "\n",
      "               previous_rank country      hq_location                 website  \\\n",
      "Walmart                    1     USA  Bentonville, AR  http://www.walmart.com   \n",
      "State Grid                 2   China   Beijing, China  http://www.sgcc.com.cn   \n",
      "Sinopec Group              4   China   Beijing, China  http://www.sinopec.com   \n",
      "\n",
      "               years_on_global_500_list  employees  total_stockholder_equity  \n",
      "Walmart                              23    2300000                     77798  \n",
      "State Grid                           17     926067                    209456  \n",
      "Sinopec Group                        19     713288                    106523  \n",
      "<class 'pandas.core.frame.DataFrame'>\n",
      "(500, 16)\n",
      "(500, 16)\n"
     ]
    }
   ],
   "source": [
    "import pandas as pd\n",
    "f500 = pd.read_csv('f500.csv',index_col=0)\n",
    "f500.index.name = None\n",
    "f500_type = type(f500)\n",
    "f500_shape = f500.shape[0:]\n",
    "f500_shape2 = f500.shape\n",
    "print(f500[:3])\n",
    "print(f500_type)\n",
    "print(f500_shape)\n",
    "print(f500_shape2)"
   ]
  },
  {
   "cell_type": "code",
   "execution_count": 2,
   "metadata": {},
   "outputs": [
    {
     "name": "stdout",
     "output_type": "stream",
     "text": [
      "               rank  revenues  revenue_change  profits  assets  profit_change  \\\n",
      "Walmart           1    485873             0.8  13643.0  198825           -7.2   \n",
      "State Grid        2    315199            -4.4   9571.3  489838           -6.2   \n",
      "Sinopec Group     3    267518            -9.1   1257.9  310726          -65.0   \n",
      "\n",
      "                               ceo               industry     sector  \\\n",
      "Walmart        C. Douglas McMillon  General Merchandisers  Retailing   \n",
      "State Grid                 Kou Wei              Utilities     Energy   \n",
      "Sinopec Group            Wang Yupu     Petroleum Refining     Energy   \n",
      "\n",
      "               previous_rank country      hq_location                 website  \\\n",
      "Walmart                    1     USA  Bentonville, AR  http://www.walmart.com   \n",
      "State Grid                 2   China   Beijing, China  http://www.sgcc.com.cn   \n",
      "Sinopec Group              4   China   Beijing, China  http://www.sinopec.com   \n",
      "\n",
      "               years_on_global_500_list  employees  total_stockholder_equity  \n",
      "Walmart                              23    2300000                     77798  \n",
      "State Grid                           17     926067                    209456  \n",
      "Sinopec Group                        19     713288                    106523  \n",
      "                                       rank  revenues  revenue_change  \\\n",
      "Telecom Italia                          493     21941           -17.4   \n",
      "Xiamen ITG Holding Group                494     21930            34.3   \n",
      "Xinjiang Guanghui Industry Investment   495     21919            31.1   \n",
      "\n",
      "                                       profits  assets  profit_change  \\\n",
      "Telecom Italia                          1999.4   74295            NaN   \n",
      "Xiamen ITG Holding Group                  35.6   12161          -25.1   \n",
      "Xinjiang Guanghui Industry Investment    251.8   31957           49.9   \n",
      "\n",
      "                                                   ceo            industry  \\\n",
      "Telecom Italia                         Flavio Cattaneo  Telecommunications   \n",
      "Xiamen ITG Holding Group                     Xu Xiaoxi             Trading   \n",
      "Xinjiang Guanghui Industry Investment    Shang Jiqiang             Trading   \n",
      "\n",
      "                                                   sector  previous_rank  \\\n",
      "Telecom Italia                         Telecommunications            404   \n",
      "Xiamen ITG Holding Group                      Wholesalers              0   \n",
      "Xinjiang Guanghui Industry Investment         Wholesalers              0   \n",
      "\n",
      "                                      country    hq_location  \\\n",
      "Telecom Italia                          Italy   Milan, Italy   \n",
      "Xiamen ITG Holding Group                China  Xiamen, China   \n",
      "Xinjiang Guanghui Industry Investment   China  Urumqi, China   \n",
      "\n",
      "                                                            website  \\\n",
      "Telecom Italia                         http://www.telecomitalia.com   \n",
      "Xiamen ITG Holding Group               http://www.itgholding.com.cn   \n",
      "Xinjiang Guanghui Industry Investment       http://www.guanghui.com   \n",
      "\n",
      "                                       years_on_global_500_list  employees  \\\n",
      "Telecom Italia                                               18      61227   \n",
      "Xiamen ITG Holding Group                                      1      18454   \n",
      "Xinjiang Guanghui Industry Investment                         1      65616   \n",
      "\n",
      "                                       total_stockholder_equity  \n",
      "Telecom Italia                                            22366  \n",
      "Xiamen ITG Holding Group                                   1066  \n",
      "Xinjiang Guanghui Industry Investment                      4563  \n"
     ]
    }
   ],
   "source": [
    "f500_head = f500.head(6)\n",
    "f500_tail = f500.tail(8)\n",
    "print(f500_head[:3])\n",
    "print(f500_tail[:3])"
   ]
  },
  {
   "cell_type": "code",
   "execution_count": 3,
   "metadata": {},
   "outputs": [
    {
     "name": "stdout",
     "output_type": "stream",
     "text": [
      "<class 'pandas.core.frame.DataFrame'>\n",
      "Index: 500 entries, Walmart to AutoNation\n",
      "Data columns (total 16 columns):\n",
      "rank                        500 non-null int64\n",
      "revenues                    500 non-null int64\n",
      "revenue_change              498 non-null float64\n",
      "profits                     499 non-null float64\n",
      "assets                      500 non-null int64\n",
      "profit_change               436 non-null float64\n",
      "ceo                         500 non-null object\n",
      "industry                    500 non-null object\n",
      "sector                      500 non-null object\n",
      "previous_rank               500 non-null int64\n",
      "country                     500 non-null object\n",
      "hq_location                 500 non-null object\n",
      "website                     500 non-null object\n",
      "years_on_global_500_list    500 non-null int64\n",
      "employees                   500 non-null int64\n",
      "total_stockholder_equity    500 non-null int64\n",
      "dtypes: float64(3), int64(7), object(6)\n",
      "memory usage: 66.4+ KB\n"
     ]
    }
   ],
   "source": [
    "f500.info()"
   ]
  },
  {
   "cell_type": "code",
   "execution_count": 4,
   "metadata": {},
   "outputs": [
    {
     "name": "stdout",
     "output_type": "stream",
     "text": [
      "Walmart          General Merchandisers\n",
      "State Grid                   Utilities\n",
      "Sinopec Group       Petroleum Refining\n",
      "Name: industry, dtype: object\n",
      "Walmart          General Merchandisers\n",
      "State Grid                   Utilities\n",
      "Sinopec Group       Petroleum Refining\n",
      "Name: industry, dtype: object\n",
      "<class 'pandas.core.series.Series'>\n"
     ]
    }
   ],
   "source": [
    "industries = f500['industry']\n",
    "industries2 = f500.loc[:,'industry']\n",
    "industries_type = type(industries)\n",
    "print(industries[:3])\n",
    "print(industries2[:3])\n",
    "print(industries_type)"
   ]
  },
  {
   "cell_type": "code",
   "execution_count": 5,
   "metadata": {},
   "outputs": [
    {
     "name": "stdout",
     "output_type": "stream",
     "text": [
      "Walmart            USA\n",
      "State Grid       China\n",
      "Sinopec Group    China\n",
      "Name: country, dtype: object\n",
      "               revenues  years_on_global_500_list\n",
      "Walmart          485873                        23\n",
      "State Grid       315199                        17\n",
      "Sinopec Group    267518                        19\n",
      "                               ceo               industry     sector\n",
      "Walmart        C. Douglas McMillon  General Merchandisers  Retailing\n",
      "State Grid                 Kou Wei              Utilities     Energy\n",
      "Sinopec Group            Wang Yupu     Petroleum Refining     Energy\n"
     ]
    }
   ],
   "source": [
    "countries = f500['country']\n",
    "revenues_years = f500[['revenues','years_on_global_500_list']]\n",
    "ceo_to_sector = f500.loc[:,\"ceo\":\"sector\"]\n",
    "print(countries[:3])\n",
    "print(revenues_years[:3])\n",
    "print(ceo_to_sector[:3])"
   ]
  },
  {
   "cell_type": "code",
   "execution_count": 6,
   "metadata": {},
   "outputs": [
    {
     "name": "stdout",
     "output_type": "stream",
     "text": [
      "rank                   5\n",
      "revenues          254694\n",
      "revenue_change       7.7\n",
      "Name: Toyota Motor, dtype: object\n",
      "                      rank  revenues  revenue_change  profits  assets  \\\n",
      "Anheuser-Busch InBev   206     45905             5.3   1241.0  258381   \n",
      "Coca-Cola              235     41863            -5.5   6527.0   87270   \n",
      "Heineken Holding       468     23044            -0.7    861.5   41469   \n",
      "\n",
      "                      profit_change                        ceo   industry  \\\n",
      "Anheuser-Busch InBev          -85.0               Carlos Brito  Beverages   \n",
      "Coca-Cola                     -11.2           James B. Quincey  Beverages   \n",
      "Heineken Holding              -18.9  Jean-Francois van Boxmeer  Beverages   \n",
      "\n",
      "                                         sector  previous_rank      country  \\\n",
      "Anheuser-Busch InBev  Food, Beverages & Tobacco            211      Belgium   \n",
      "Coca-Cola             Food, Beverages & Tobacco            206          USA   \n",
      "Heineken Holding      Food, Beverages & Tobacco            459  Netherlands   \n",
      "\n",
      "                                 hq_location  \\\n",
      "Anheuser-Busch InBev         Leuven, Belgium   \n",
      "Coca-Cola                        Atlanta, GA   \n",
      "Heineken Holding      Amsterdam, Netherlands   \n",
      "\n",
      "                                                website  \\\n",
      "Anheuser-Busch InBev            http://www.ab-inbev.com   \n",
      "Coca-Cola               http://www.coca-colacompany.com   \n",
      "Heineken Holding      http://www.theheinekencompany.com   \n",
      "\n",
      "                      years_on_global_500_list  employees  \\\n",
      "Anheuser-Busch InBev                        12     206633   \n",
      "Coca-Cola                                   23     100300   \n",
      "Heineken Holding                            11      73525   \n",
      "\n",
      "                      total_stockholder_equity  \n",
      "Anheuser-Busch InBev                     71339  \n",
      "Coca-Cola                                23062  \n",
      "Heineken Holding                          6958  \n",
      "                         rank  revenues  revenue_change  profits  assets  \\\n",
      "Tata Motors               247     40329            -4.2   1111.6   42162   \n",
      "Aluminum Corp. of China   248     40278             6.0   -282.5   75089   \n",
      "Mitsui                    249     40275             1.6   2825.3  103231   \n",
      "\n",
      "                         profit_change               ceo  \\\n",
      "Tata Motors                      -34.0  Guenter Butschek   \n",
      "Aluminum Corp. of China            NaN          Yu Dehui   \n",
      "Mitsui                             NaN   Tatsuo Yasunaga   \n",
      "\n",
      "                                         industry                  sector  \\\n",
      "Tata Motors              Motor Vehicles and Parts  Motor Vehicles & Parts   \n",
      "Aluminum Corp. of China                    Metals               Materials   \n",
      "Mitsui                                    Trading             Wholesalers   \n",
      "\n",
      "                         previous_rank country  \n",
      "Tata Motors                        226   India  \n",
      "Aluminum Corp. of China            262   China  \n",
      "Mitsui                             245   Japan  \n"
     ]
    }
   ],
   "source": [
    "toyota = f500.loc['Toyota Motor']\n",
    "drink_companies = f500.loc[['Anheuser-Busch InBev', 'Coca-Cola', 'Heineken Holding']]\n",
    "middle_companies = f500.loc['Tata Motors':'Nationwide','rank':'country']\n",
    "print(toyota[:3])\n",
    "print(drink_companies[:3])\n",
    "print(middle_companies[:3])"
   ]
  },
  {
   "cell_type": "code",
   "execution_count": 7,
   "metadata": {},
   "outputs": [
    {
     "name": "stdout",
     "output_type": "stream",
     "text": [
      "<class 'pandas.core.series.Series'>\n",
      "USA             132\n",
      "China           109\n",
      "Japan            51\n",
      "Germany          29\n",
      "France           29\n",
      "Britain          24\n",
      "South Korea      15\n",
      "Netherlands      14\n",
      "Switzerland      14\n",
      "Canada           11\n",
      "Spain             9\n",
      "Italy             7\n",
      "Brazil            7\n",
      "Australia         7\n",
      "India             7\n",
      "Taiwan            6\n",
      "Russia            4\n",
      "Ireland           4\n",
      "Sweden            3\n",
      "Singapore         3\n",
      "Mexico            2\n",
      "U.A.E             1\n",
      "Malaysia          1\n",
      "Saudi Arabia      1\n",
      "Israel            1\n",
      "Turkey            1\n",
      "Belgium           1\n",
      "Finland           1\n",
      "Norway            1\n",
      "Indonesia         1\n",
      "Denmark           1\n",
      "Venezuela         1\n",
      "Thailand          1\n",
      "Luxembourg        1\n",
      "Name: country, dtype: int64\n"
     ]
    }
   ],
   "source": [
    "countries = f500['country']\n",
    "country_counts = countries.value_counts()\n",
    "print(type(countries))\n",
    "print(country_counts)"
   ]
  },
  {
   "cell_type": "code",
   "execution_count": 8,
   "metadata": {},
   "outputs": [
    {
     "name": "stdout",
     "output_type": "stream",
     "text": [
      "7\n",
      "USA       132\n",
      "Canada     11\n",
      "Mexico      2\n",
      "Name: country, dtype: int64\n"
     ]
    }
   ],
   "source": [
    "countries = f500['country']\n",
    "countries_counts = countries.value_counts()\n",
    "india = countries_counts['India']\n",
    "north_america = countries_counts[['USA','Canada','Mexico']]\n",
    "print(india)\n",
    "print(north_america)\n"
   ]
  },
  {
   "cell_type": "code",
   "execution_count": 9,
   "metadata": {},
   "outputs": [
    {
     "name": "stdout",
     "output_type": "stream",
     "text": [
      "              rank  previous_rank\n",
      "Aviva           90            279\n",
      "HP             194             48\n",
      "JD.com         261            366\n",
      "BHP Billiton   350            168\n",
      "                                       rank              sector  country\n",
      "National Grid                           491              Energy  Britain\n",
      "Dollar General                          492           Retailing      USA\n",
      "Telecom Italia                          493  Telecommunications    Italy\n",
      "Xiamen ITG Holding Group                494         Wholesalers    China\n",
      "Xinjiang Guanghui Industry Investment   495         Wholesalers    China\n",
      "Teva Pharmaceutical Industries          496         Health Care   Israel\n",
      "New China Life Insurance                497          Financials    China\n",
      "Wm. Morrison Supermarkets               498  Food & Drug Stores  Britain\n",
      "TUI                                     499   Business Services  Germany\n",
      "AutoNation                              500           Retailing      USA\n"
     ]
    }
   ],
   "source": [
    "big_movers = f500.loc[['Aviva', 'HP', 'JD.com', 'BHP Billiton'], ['rank', 'previous_rank']]\n",
    "bottom_companies = f500.loc['National Grid':'AutoNation',['rank','sector','country']]\n",
    "print(big_movers)\n",
    "print(bottom_companies)"
   ]
  },
  {
   "cell_type": "code",
   "execution_count": 10,
   "metadata": {},
   "outputs": [
    {
     "name": "stdout",
     "output_type": "stream",
     "text": [
      "<class 'pandas.core.frame.DataFrame'>\n",
      "Index: 500 entries, Walmart to AutoNation\n",
      "Data columns (total 16 columns):\n",
      "rank                        500 non-null int64\n",
      "revenues                    500 non-null int64\n",
      "revenue_change              498 non-null float64\n",
      "profits                     499 non-null float64\n",
      "assets                      500 non-null int64\n",
      "profit_change               436 non-null float64\n",
      "ceo                         500 non-null object\n",
      "industry                    500 non-null object\n",
      "sector                      500 non-null object\n",
      "previous_rank               500 non-null int64\n",
      "country                     500 non-null object\n",
      "hq_location                 500 non-null object\n",
      "website                     500 non-null object\n",
      "years_on_global_500_list    500 non-null int64\n",
      "employees                   500 non-null int64\n",
      "total_stockholder_equity    500 non-null int64\n",
      "dtypes: float64(3), int64(7), object(6)\n",
      "memory usage: 86.4+ KB\n",
      "                          rank  revenues  revenue_change  profits  assets  \\\n",
      "Walmart                      1    485873             0.8  13643.0  198825   \n",
      "State Grid                   2    315199            -4.4   9571.3  489838   \n",
      "Sinopec Group                3    267518            -9.1   1257.9  310726   \n",
      "China National Petroleum     4    262573           -12.3   1867.5  585619   \n",
      "Toyota Motor                 5    254694             7.7  16899.3  437575   \n",
      "Volkswagen                   6    240264             1.5   5937.3  432116   \n",
      "Royal Dutch Shell            7    240033           -11.8   4575.0  411275   \n",
      "Berkshire Hathaway           8    223604             6.1  24074.0  620854   \n",
      "Apple                        9    215639            -7.7  45687.0  321686   \n",
      "Exxon Mobil                 10    205004           -16.7   7840.0  330314   \n",
      "\n",
      "                          profit_change                  ceo  \\\n",
      "Walmart                            -7.2  C. Douglas McMillon   \n",
      "State Grid                         -6.2              Kou Wei   \n",
      "Sinopec Group                     -65.0            Wang Yupu   \n",
      "China National Petroleum          -73.7        Zhang Jianhua   \n",
      "Toyota Motor                      -12.3          Akio Toyoda   \n",
      "Volkswagen                          NaN      Matthias Muller   \n",
      "Royal Dutch Shell                 135.9      Ben van Beurden   \n",
      "Berkshire Hathaway                  NaN    Warren E. Buffett   \n",
      "Apple                             -14.4      Timothy D. Cook   \n",
      "Exxon Mobil                       -51.5      Darren W. Woods   \n",
      "\n",
      "                                                          industry  \\\n",
      "Walmart                                      General Merchandisers   \n",
      "State Grid                                               Utilities   \n",
      "Sinopec Group                                   Petroleum Refining   \n",
      "China National Petroleum                        Petroleum Refining   \n",
      "Toyota Motor                              Motor Vehicles and Parts   \n",
      "Volkswagen                                Motor Vehicles and Parts   \n",
      "Royal Dutch Shell                               Petroleum Refining   \n",
      "Berkshire Hathaway        Insurance: Property and Casualty (Stock)   \n",
      "Apple                                  Computers, Office Equipment   \n",
      "Exxon Mobil                                     Petroleum Refining   \n",
      "\n",
      "                                          sector  previous_rank      country  \\\n",
      "Walmart                                Retailing              1          USA   \n",
      "State Grid                                Energy              2        China   \n",
      "Sinopec Group                             Energy              4        China   \n",
      "China National Petroleum                  Energy              3        China   \n",
      "Toyota Motor              Motor Vehicles & Parts              8        Japan   \n",
      "Volkswagen                Motor Vehicles & Parts              7      Germany   \n",
      "Royal Dutch Shell                         Energy              5  Netherlands   \n",
      "Berkshire Hathaway                    Financials             11          USA   \n",
      "Apple                                 Technology              9          USA   \n",
      "Exxon Mobil                               Energy              6          USA   \n",
      "\n",
      "                                     hq_location  \\\n",
      "Walmart                          Bentonville, AR   \n",
      "State Grid                        Beijing, China   \n",
      "Sinopec Group                     Beijing, China   \n",
      "China National Petroleum          Beijing, China   \n",
      "Toyota Motor                       Toyota, Japan   \n",
      "Volkswagen                    Wolfsburg, Germany   \n",
      "Royal Dutch Shell         The Hague, Netherlands   \n",
      "Berkshire Hathaway                     Omaha, NE   \n",
      "Apple                              Cupertino, CA   \n",
      "Exxon Mobil                           Irving, TX   \n",
      "\n",
      "                                                   website  \\\n",
      "Walmart                             http://www.walmart.com   \n",
      "State Grid                          http://www.sgcc.com.cn   \n",
      "Sinopec Group                       http://www.sinopec.com   \n",
      "China National Petroleum            http://www.cnpc.com.cn   \n",
      "Toyota Motor                  http://www.toyota-global.com   \n",
      "Volkswagen                       http://www.volkswagen.com   \n",
      "Royal Dutch Shell                     http://www.shell.com   \n",
      "Berkshire Hathaway        http://www.berkshirehathaway.com   \n",
      "Apple                                 http://www.apple.com   \n",
      "Exxon Mobil                      http://www.exxonmobil.com   \n",
      "\n",
      "                          years_on_global_500_list  employees  \\\n",
      "Walmart                                         23    2300000   \n",
      "State Grid                                      17     926067   \n",
      "Sinopec Group                                   19     713288   \n",
      "China National Petroleum                        17    1512048   \n",
      "Toyota Motor                                    23     364445   \n",
      "Volkswagen                                      23     626715   \n",
      "Royal Dutch Shell                               23      89000   \n",
      "Berkshire Hathaway                              21     367700   \n",
      "Apple                                           15     116000   \n",
      "Exxon Mobil                                     23      72700   \n",
      "\n",
      "                          total_stockholder_equity  \n",
      "Walmart                                      77798  \n",
      "State Grid                                  209456  \n",
      "Sinopec Group                               106523  \n",
      "China National Petroleum                    301893  \n",
      "Toyota Motor                                157210  \n",
      "Volkswagen                                   97753  \n",
      "Royal Dutch Shell                           186646  \n",
      "Berkshire Hathaway                          283001  \n",
      "Apple                                       128249  \n",
      "Exxon Mobil                                 167325  \n"
     ]
    }
   ],
   "source": [
    "f500_head = f500.head(10)\n",
    "f500.info()\n",
    "print(f500_head)"
   ]
  },
  {
   "cell_type": "code",
   "execution_count": 11,
   "metadata": {},
   "outputs": [
    {
     "name": "stdout",
     "output_type": "stream",
     "text": [
      "Walmart          1\n",
      "State Grid       2\n",
      "Sinopec Group    4\n",
      "Name: previous_rank, dtype: int64\n",
      "Walmart          1\n",
      "State Grid       2\n",
      "Sinopec Group    3\n",
      "Name: rank, dtype: int64\n",
      "Walmart          0\n",
      "State Grid       0\n",
      "Sinopec Group    1\n",
      "dtype: int64\n",
      "Walmart          0\n",
      "State Grid       0\n",
      "Sinopec Group    1\n",
      "dtype: int64\n"
     ]
    }
   ],
   "source": [
    "previous_rank = f500['previous_rank']\n",
    "rank = f500['rank']\n",
    "rank_change = f500['previous_rank'] - f500['rank']\n",
    "rank_change2 = previous_rank - rank\n",
    "print(previous_rank[:3])\n",
    "print(rank[:3])\n",
    "print(rank_change[:3])\n",
    "print(rank_change2[:3])"
   ]
  },
  {
   "cell_type": "code",
   "execution_count": 12,
   "metadata": {},
   "outputs": [
    {
     "name": "stdout",
     "output_type": "stream",
     "text": [
      "226\n",
      "-500\n"
     ]
    }
   ],
   "source": [
    "rank_change =  f500[\"previous_rank\"] - f500[\"rank\"]\n",
    "rank_change_max = rank_change.max()\n",
    "rank_change_min = rank_change.min()\n",
    "print(rank_change_max)\n",
    "print(rank_change_min)"
   ]
  },
  {
   "cell_type": "code",
   "execution_count": 13,
   "metadata": {},
   "outputs": [
    {
     "name": "stdout",
     "output_type": "stream",
     "text": [
      "count    500.000000\n",
      "mean     250.500000\n",
      "std      144.481833\n",
      "min        1.000000\n",
      "25%      125.750000\n",
      "50%      250.500000\n",
      "75%      375.250000\n",
      "max      500.000000\n",
      "Name: rank, dtype: float64\n",
      "count    500.000000\n",
      "mean     222.134000\n",
      "std      146.941961\n",
      "min        0.000000\n",
      "25%       92.750000\n",
      "50%      219.500000\n",
      "75%      347.250000\n",
      "max      500.000000\n",
      "Name: previous_rank, dtype: float64\n"
     ]
    }
   ],
   "source": [
    "rank = f500['rank']\n",
    "rank_desc = rank.describe()\n",
    "prev_rank = f500['previous_rank']\n",
    "prev_rank_desc = prev_rank.describe()\n",
    "print(rank_desc)\n",
    "print(prev_rank_desc)"
   ]
  },
  {
   "cell_type": "code",
   "execution_count": 14,
   "metadata": {},
   "outputs": [
    {
     "name": "stdout",
     "output_type": "stream",
     "text": [
      "33\n"
     ]
    }
   ],
   "source": [
    "zero_previous_rank = f500['previous_rank'].value_counts().loc[0]\n",
    "print(zero_previous_rank)"
   ]
  },
  {
   "cell_type": "code",
   "execution_count": 15,
   "metadata": {},
   "outputs": [
    {
     "name": "stdout",
     "output_type": "stream",
     "text": [
      "rank                            500.0\n",
      "revenues                     485873.0\n",
      "revenue_change                  442.3\n",
      "profits                       45687.0\n",
      "assets                      3473238.0\n",
      "profit_change                  8909.5\n",
      "previous_rank                   500.0\n",
      "years_on_global_500_list         23.0\n",
      "employees                   2300000.0\n",
      "total_stockholder_equity     301893.0\n",
      "dtype: float64\n"
     ]
    }
   ],
   "source": [
    "max_f500 = f500.max(numeric_only=True)\n",
    "print(max_f500)"
   ]
  },
  {
   "cell_type": "code",
   "execution_count": 16,
   "metadata": {},
   "outputs": [
    {
     "name": "stdout",
     "output_type": "stream",
     "text": [
      "             rank       revenues  revenue_change       profits        assets  \\\n",
      "count  500.000000     500.000000      498.000000    499.000000  5.000000e+02   \n",
      "mean   250.500000   55416.358000        4.538353   3055.203206  2.436323e+05   \n",
      "std    144.481833   45725.478963       28.549067   5171.981071  4.851937e+05   \n",
      "min      1.000000   21609.000000      -67.300000 -13038.000000  3.717000e+03   \n",
      "25%    125.750000   29003.000000       -5.900000    556.950000  3.658850e+04   \n",
      "50%    250.500000   40236.000000        0.550000   1761.600000  7.326150e+04   \n",
      "75%    375.250000   63926.750000        6.975000   3954.000000  1.805640e+05   \n",
      "max    500.000000  485873.000000      442.300000  45687.000000  3.473238e+06   \n",
      "\n",
      "       profit_change  previous_rank  years_on_global_500_list     employees  \\\n",
      "count     436.000000     500.000000                500.000000  5.000000e+02   \n",
      "mean       24.152752     222.134000                 15.036000  1.339983e+05   \n",
      "std       437.509566     146.941961                  7.932752  1.700878e+05   \n",
      "min      -793.700000       0.000000                  1.000000  3.280000e+02   \n",
      "25%       -22.775000      92.750000                  7.000000  4.293250e+04   \n",
      "50%        -0.350000     219.500000                 17.000000  9.291050e+04   \n",
      "75%        17.700000     347.250000                 23.000000  1.689172e+05   \n",
      "max      8909.500000     500.000000                 23.000000  2.300000e+06   \n",
      "\n",
      "       total_stockholder_equity  \n",
      "count                500.000000  \n",
      "mean               30628.076000  \n",
      "std                43642.576833  \n",
      "min               -59909.000000  \n",
      "25%                 7553.750000  \n",
      "50%                15809.500000  \n",
      "75%                37828.500000  \n",
      "max               301893.000000  \n",
      "                     ceo                       industry      sector country  \\\n",
      "count                500                            500         500     500   \n",
      "unique               500                             58          21      34   \n",
      "top     Megan J. Brennan  Banks: Commercial and Savings  Financials     USA   \n",
      "freq                   1                             51         118     132   \n",
      "\n",
      "           hq_location              website  \n",
      "count              500                  500  \n",
      "unique             235                  500  \n",
      "top     Beijing, China  http://www.10086.cn  \n",
      "freq                56                    1  \n"
     ]
    }
   ],
   "source": [
    "f500_desc = f500.describe()\n",
    "print(f500_desc)\n",
    "print(f500.describe(include=['O']))"
   ]
  },
  {
   "cell_type": "code",
   "execution_count": 17,
   "metadata": {},
   "outputs": [
    {
     "name": "stdout",
     "output_type": "stream",
     "text": [
      "Jim Fitterling\n"
     ]
    }
   ],
   "source": [
    "f500.loc['Dow Chemical', 'ceo'] = 'Jim Fitterling'\n",
    "print(f500.loc['Dow Chemical', 'ceo'])"
   ]
  },
  {
   "cell_type": "code",
   "execution_count": 18,
   "metadata": {},
   "outputs": [
    {
     "name": "stdout",
     "output_type": "stream",
     "text": [
      "Walmart                                         False\n",
      "State Grid                                      False\n",
      "Sinopec Group                                   False\n",
      "China National Petroleum                        False\n",
      "Toyota Motor                                     True\n",
      "Volkswagen                                       True\n",
      "Royal Dutch Shell                               False\n",
      "Berkshire Hathaway                              False\n",
      "Apple                                           False\n",
      "Exxon Mobil                                     False\n",
      "McKesson                                        False\n",
      "BP                                              False\n",
      "UnitedHealth Group                              False\n",
      "CVS Health                                      False\n",
      "Samsung Electronics                             False\n",
      "Glencore                                        False\n",
      "Daimler                                          True\n",
      "General Motors                                   True\n",
      "AT&T                                            False\n",
      "EXOR Group                                      False\n",
      "Ford Motor                                       True\n",
      "Industrial & Commercial Bank of China           False\n",
      "AmerisourceBergen                               False\n",
      "China State Construction Engineering            False\n",
      "AXA                                             False\n",
      "Amazon.com                                      False\n",
      "Hon Hai Precision Industry                      False\n",
      "China Construction Bank                         False\n",
      "Honda Motor                                      True\n",
      "Total                                           False\n",
      "                                                ...  \n",
      "Amgen                                           False\n",
      "Rabobank Group                                  False\n",
      "Altice                                          False\n",
      "Onex                                            False\n",
      "US Foods Holding                                False\n",
      "Shanxi Jincheng Anthracite Coal Mining Group    False\n",
      "Randstad Holding                                False\n",
      "Tencent Holdings                                False\n",
      "LG Display                                      False\n",
      "Emirates Group                                  False\n",
      "U.S. Bancorp                                    False\n",
      "H & M Hennes & Mauritz                          False\n",
      "Aflac                                           False\n",
      "Sodexo                                          False\n",
      "Suning Commerce Group                           False\n",
      "GS Caltex                                       False\n",
      "Ultrapar Holdings                               False\n",
      "Xiamen C&D                                      False\n",
      "Sears Holdings                                  False\n",
      "China General Technology                        False\n",
      "National Grid                                   False\n",
      "Dollar General                                  False\n",
      "Telecom Italia                                  False\n",
      "Xiamen ITG Holding Group                        False\n",
      "Xinjiang Guanghui Industry Investment           False\n",
      "Teva Pharmaceutical Industries                  False\n",
      "New China Life Insurance                        False\n",
      "Wm. Morrison Supermarkets                       False\n",
      "TUI                                             False\n",
      "AutoNation                                      False\n",
      "Name: industry, Length: 500, dtype: bool\n",
      "Toyota Motor                                 Japan\n",
      "Volkswagen                                 Germany\n",
      "Daimler                                    Germany\n",
      "General Motors                                 USA\n",
      "Ford Motor                                     USA\n",
      "Honda Motor                                  Japan\n",
      "SAIC Motor                                   China\n",
      "Nissan Motor                                 Japan\n",
      "BMW Group                                  Germany\n",
      "Dongfeng Motor                               China\n",
      "Robert Bosch                               Germany\n",
      "Hyundai Motor                          South Korea\n",
      "China FAW Group                              China\n",
      "Beijing Automotive Group                     China\n",
      "Peugeot                                     France\n",
      "Renault                                     France\n",
      "Kia Motors                             South Korea\n",
      "Continental                                Germany\n",
      "Denso                                        Japan\n",
      "Guangzhou Automobile Industry Group          China\n",
      "Tata Motors                                  India\n",
      "ZF Friedrichshafen                         Germany\n",
      "Jardine Matheson                             China\n",
      "Magna International                         Canada\n",
      "Volvo                                       Sweden\n",
      "Hyundai Mobis                          South Korea\n",
      "Aisin Seiki                                  Japan\n",
      "Zhejiang Geely Holding Group                 China\n",
      "Subaru                                       Japan\n",
      "Bridgestone                                  Japan\n",
      "Mazda Motor                                  Japan\n",
      "Suzuki Motor                                 Japan\n",
      "Sumitomo Electric Industries                 Japan\n",
      "Michelin                                    France\n",
      "Name: country, dtype: object\n"
     ]
    }
   ],
   "source": [
    "motor_bool = f500['industry'] == 'Motor Vehicles and Parts'\n",
    "print(motor_bool)\n",
    "motor_countries = f500.loc[motor_bool, 'country']\n",
    "print(motor_countries)"
   ]
  },
  {
   "cell_type": "code",
   "execution_count": 19,
   "metadata": {},
   "outputs": [],
   "source": [
    "import numpy as np\n",
    "prev_rank_before = f500['previous_rank'].value_counts(dropna=False).head()\n",
    "f500.loc[f500['previous_rank'] == 0, 'previous_rank'] = np.nan\n",
    "prev_rank_after = f500['previous_rank'].value_counts(dropna=False).head()"
   ]
  },
  {
   "cell_type": "code",
   "execution_count": 20,
   "metadata": {},
   "outputs": [
    {
     "name": "stdout",
     "output_type": "stream",
     "text": [
      "count    467.000000\n",
      "mean      -3.533191\n",
      "std       44.293603\n",
      "min     -199.000000\n",
      "25%      -21.000000\n",
      "50%       -2.000000\n",
      "75%       10.000000\n",
      "max      226.000000\n",
      "Name: rank_change, dtype: float64\n"
     ]
    }
   ],
   "source": [
    "f500['rank_change'] = f500['previous_rank'] - f500['rank']\n",
    "rank_change_desc = f500['rank_change'].describe()\n",
    "print(rank_change_desc)"
   ]
  },
  {
   "cell_type": "code",
   "execution_count": 21,
   "metadata": {},
   "outputs": [],
   "source": [
    "top_3_countries = f500['country'].value_counts().head(3)\n",
    "industry_usa = f500['industry'][f500['country'] == 'USA'].value_counts().head(2)\n",
    "sector_china = f500['sector'][f500['country'] == 'China'].value_counts().head(3)\n",
    "mean_employees_japan = f500['employees'][f500['country'] == 'Japan'].mean()"
   ]
  },
  {
   "cell_type": "code",
   "execution_count": 22,
   "metadata": {},
   "outputs": [],
   "source": [
    "import pandas as pd\n",
    "# read the data set into a pandas dataframe\n",
    "f500 = pd.read_csv(\"f500.csv\", index_col=0)\n",
    "f500.index.name = None\n",
    "\n",
    "# replace 0 values in the \"previous_rank\" column with NaN\n",
    "f500.loc[f500[\"previous_rank\"] == 0, \"previous_rank\"] = np.nan\n",
    "f500_selection = f500[['rank', 'revenues', 'revenue_change']].head(5)"
   ]
  },
  {
   "cell_type": "code",
   "execution_count": 23,
   "metadata": {},
   "outputs": [],
   "source": [
    "f500 = pd.read_csv(\"f500.csv\")\n",
    "f500.loc[f500[\"previous_rank\"] == 0, \"previous_rank\"] = np.nan"
   ]
  },
  {
   "cell_type": "code",
   "execution_count": 24,
   "metadata": {},
   "outputs": [
    {
     "name": "stdout",
     "output_type": "stream",
     "text": [
      "company     Toyota Motor\n",
      "rank                   5\n",
      "revenues          254694\n",
      "Name: 4, dtype: object\n",
      "Walmart\n"
     ]
    }
   ],
   "source": [
    "fifth_row = f500.iloc[4]\n",
    "company_value = f500.iloc[0,0]\n",
    "print(fifth_row[:3])\n",
    "print(company_value)"
   ]
  },
  {
   "cell_type": "code",
   "execution_count": 25,
   "metadata": {},
   "outputs": [],
   "source": [
    "first_three_rows = f500.iloc[0:3]\n",
    "first_seventh_row_slice = f500.iloc[[0,6], 0:5]"
   ]
  },
  {
   "cell_type": "code",
   "execution_count": 26,
   "metadata": {},
   "outputs": [
    {
     "name": "stdout",
     "output_type": "stream",
     "text": [
      "     company  rank  previous_rank\n",
      "48      True  True          False\n",
      "90      True  True          False\n",
      "123     True  True          False\n",
      "138     True  True          False\n",
      "140     True  True          False\n",
      "180     True  True          False\n",
      "267     True  True          False\n",
      "271     True  True          False\n",
      "341     True  True          False\n",
      "375     True  True          False\n",
      "376     True  True          False\n",
      "392     True  True          False\n",
      "409     True  True          False\n",
      "414     True  True          False\n",
      "431     True  True          False\n",
      "440     True  True          False\n",
      "441     True  True          False\n",
      "446     True  True          False\n",
      "456     True  True          False\n",
      "458     True  True          False\n",
      "461     True  True          False\n",
      "463     True  True          False\n",
      "466     True  True          False\n",
      "472     True  True          False\n",
      "477     True  True          False\n",
      "482     True  True          False\n",
      "484     True  True          False\n",
      "487     True  True          False\n",
      "491     True  True          False\n",
      "493     True  True          False\n",
      "494     True  True          False\n",
      "495     True  True          False\n",
      "499     True  True          False\n",
      "     company  rank  previous_rank\n",
      "48      True  True          False\n",
      "90      True  True          False\n",
      "123     True  True          False\n",
      "138     True  True          False\n",
      "140     True  True          False\n",
      "180     True  True          False\n",
      "267     True  True          False\n",
      "271     True  True          False\n",
      "341     True  True          False\n",
      "375     True  True          False\n",
      "376     True  True          False\n",
      "392     True  True          False\n",
      "409     True  True          False\n",
      "414     True  True          False\n",
      "431     True  True          False\n",
      "440     True  True          False\n",
      "441     True  True          False\n",
      "446     True  True          False\n",
      "456     True  True          False\n",
      "458     True  True          False\n",
      "461     True  True          False\n",
      "463     True  True          False\n",
      "466     True  True          False\n",
      "472     True  True          False\n",
      "477     True  True          False\n",
      "482     True  True          False\n",
      "484     True  True          False\n",
      "487     True  True          False\n",
      "491     True  True          False\n",
      "493     True  True          False\n",
      "494     True  True          False\n",
      "495     True  True          False\n",
      "499     True  True          False\n"
     ]
    }
   ],
   "source": [
    "previous_rank_is_null2 = f500['previous_rank'].isnull()\n",
    "null_previous_rank2 = f500[previous_rank_is_null2][['company', 'rank', 'previous_rank']]\n",
    "previous_rank_is_null3 = f500['previous_rank'].isnull()\n",
    "previous_rank_is_null3_change = f500[previous_rank_is_null3]\n",
    "null_previous_rank3 = previous_rank_is_null3_change[['company', 'rank', 'previous_rank']]\n",
    "\n",
    "null_previous_rank = f500[f500[\"previous_rank\"].isnull()][[\"company\",\"rank\", \"previous_rank\"]]\n",
    "print(null_previous_rank == null_previous_rank2)\n",
    "print(null_previous_rank == null_previous_rank3)"
   ]
  },
  {
   "cell_type": "code",
   "execution_count": 27,
   "metadata": {},
   "outputs": [
    {
     "name": "stdout",
     "output_type": "stream",
     "text": [
      "                    company  rank  revenues  revenue_change  profits  assets  \\\n",
      "48    Legal & General Group    49    105235           442.3   1697.9  577954   \n",
      "90                   Uniper    91     74407             NaN  -3557.5   51541   \n",
      "123       Dell Technologies   124     64806            18.1  -1672.0  118206   \n",
      "138  Anbang Insurance Group   139     60800           124.0   3883.9  430040   \n",
      "140         Albertsons Cos.   141     59678             1.6   -373.3   23755   \n",
      "\n",
      "     profit_change               ceo                          industry  \\\n",
      "48             3.4      Nigel Wilson   Insurance: Life, Health (stock)   \n",
      "90             NaN     Klaus Schafer                            Energy   \n",
      "123            NaN   Michael S. Dell       Computers, Office Equipment   \n",
      "138            0.9        Wu Xiaohui  Insurance: Life, Health (Mutual)   \n",
      "140            NaN  Robert G. Miller              Food and Drug Stores   \n",
      "\n",
      "                 sector  previous_rank  country          hq_location  \\\n",
      "48           Financials            NaN  Britain      London, Britain   \n",
      "90               Energy            NaN  Germany  Dusseldorf, Germany   \n",
      "123          Technology            NaN      USA       Round Rock, TX   \n",
      "138          Financials            NaN    China       Beijing, China   \n",
      "140  Food & Drug Stores            NaN      USA            Boise, ID   \n",
      "\n",
      "                                 website  years_on_global_500_list  employees  \\\n",
      "48   http://www.legalandgeneralgroup.com                        17       8939   \n",
      "90              http://www.uniper.energy                         1      12890   \n",
      "123      http://www.delltechnologies.com                        17     138000   \n",
      "138           http://www.anbanggroup.com                         1      40707   \n",
      "140            http://www.albertsons.com                        13     273000   \n",
      "\n",
      "     total_stockholder_equity  \n",
      "48                       8579  \n",
      "90                      12889  \n",
      "123                     13243  \n",
      "138                     20372  \n",
      "140                      1371  \n"
     ]
    }
   ],
   "source": [
    "null_previous_rank = f500[f500[\"previous_rank\"].isnull()]\n",
    "top5_null_prev_rank = null_previous_rank.iloc[:5]\n",
    "print(top5_null_prev_rank)"
   ]
  },
  {
   "cell_type": "code",
   "execution_count": 28,
   "metadata": {},
   "outputs": [
    {
     "name": "stdout",
     "output_type": "stream",
     "text": [
      "(467,)\n",
      "496   -70.0\n",
      "497   -61.0\n",
      "498   -32.0\n",
      "dtype: float64\n"
     ]
    }
   ],
   "source": [
    "previously_ranked = f500[f500['previous_rank'].notnull()]\n",
    "rank_change = previously_ranked['previous_rank'] - previously_ranked['rank']\n",
    "f500['rank_change'] = rank_change\n",
    "print(rank_change.shape)\n",
    "print(rank_change.tail(3))"
   ]
  },
  {
   "cell_type": "code",
   "execution_count": 29,
   "metadata": {},
   "outputs": [],
   "source": [
    "large_revenue = f500['revenues'] > 100000\n",
    "negative_profits = f500['profits'] < 0\n",
    "combined = large_revenue & negative_profits\n",
    "big_rev_neg_profit = f500[combined]\n",
    "big_rev_neg_profit2 = f500.loc[combined, ['company', 'profits']]"
   ]
  },
  {
   "cell_type": "code",
   "execution_count": 30,
   "metadata": {},
   "outputs": [],
   "source": [
    "big_rev_neg_profit = f500[(f500[\"revenues\"] > 100000) & (f500[\"profits\"] < 0)]\n",
    "brazil_venezuela = f500[(f500['country'] == 'Brazil') | (f500['country'] == 'Venezuela')]\n",
    "tech_outside_usa = f500[(f500['sector'] == 'Technology') & ~ (f500['country'] == 'USA')].head()"
   ]
  },
  {
   "cell_type": "code",
   "execution_count": 31,
   "metadata": {},
   "outputs": [
    {
     "name": "stdout",
     "output_type": "stream",
     "text": [
      "Toyota Motor\n",
      "Toyota Motor\n"
     ]
    }
   ],
   "source": [
    "japan = f500[f500[\"country\"] == \"Japan\"]\n",
    "japan_employees = japan.sort_values(\"employees\", ascending=False)\n",
    "first_japan = japan_employees.iloc[0]\n",
    "top_japanese_employer2 = first_japan['company']\n",
    "\n",
    "selected_rows = f500[f500[\"country\"] == \"Japan\"]\n",
    "sorted_rows = selected_rows.sort_values(\"employees\", ascending=False)\n",
    "top_japanese_employer = sorted_rows.iloc[0][\"company\"]\n",
    "\n",
    "print(top_japanese_employer2)\n",
    "print(top_japanese_employer)\n"
   ]
  },
  {
   "cell_type": "code",
   "execution_count": 32,
   "metadata": {},
   "outputs": [
    {
     "name": "stdout",
     "output_type": "stream",
     "text": [
      "{'USA': 'Walmart', 'China': 'China National Petroleum', 'Japan': 'Toyota Motor', 'Germany': 'Volkswagen', 'Netherlands': 'EXOR Group', 'Britain': 'Compass Group', 'South Korea': 'Samsung Electronics', 'Switzerland': 'Nestle', 'France': 'Sodexo', 'Taiwan': 'Hon Hai Precision Industry', 'Singapore': 'Flex', 'Italy': 'Poste Italiane', 'Russia': 'Gazprom', 'Spain': 'Banco Santander', 'Brazil': 'JBS', 'Mexico': 'America Movil', 'Luxembourg': 'ArcelorMittal', 'India': 'State Bank of India', 'Malaysia': 'Petronas', 'Thailand': 'PTT', 'Australia': 'Wesfarmers', 'Belgium': 'Anheuser-Busch InBev', 'Norway': 'Statoil', 'Canada': 'George Weston', 'Ireland': 'Accenture', 'Indonesia': 'Pertamina', 'Denmark': 'Maersk Group', 'Saudi Arabia': 'SABIC', 'Sweden': 'H & M Hennes & Mauritz', 'Finland': 'Nokia', 'Venezuela': 'Mercantil Servicios Financieros', 'Turkey': 'Koc Holding', 'U.A.E': 'Emirates Group', 'Israel': 'Teva Pharmaceutical Industries'}\n"
     ]
    }
   ],
   "source": [
    "top_employer_by_country = {}\n",
    "countries = f500['country'].unique()\n",
    "for c in countries:\n",
    "    selected_rows = f500[f500[\"country\"] == c]\n",
    "    sorted_rows = selected_rows.sort_values(\"employees\", ascending=False)\n",
    "    top_employer = sorted_rows.iloc[0]\n",
    "    employer_name = top_employer['company']\n",
    "    top_employer_by_country[c] = employer_name\n",
    "print(top_employer_by_country)"
   ]
  },
  {
   "cell_type": "code",
   "execution_count": 33,
   "metadata": {},
   "outputs": [
    {
     "name": "stdout",
     "output_type": "stream",
     "text": [
      "count    499.000000\n",
      "mean       0.030428\n",
      "std        0.043733\n",
      "min       -0.237236\n",
      "25%        0.005632\n",
      "50%        0.021783\n",
      "75%        0.044978\n",
      "max        0.236955\n",
      "Name: roa, dtype: float64\n",
      "{'Retailing': 'H & M Hennes & Mauritz', 'Energy': 'National Grid', 'Motor Vehicles & Parts': 'Subaru', 'Financials': 'Berkshire Hathaway', 'Technology': 'Accenture', 'Wholesalers': 'McKesson', 'Health Care': 'Gilead Sciences', 'Telecommunications': 'KDDI', 'Engineering & Construction': 'Pacific Construction Group', 'Industrials': '3M', 'Food & Drug Stores': 'Publix Super Markets', 'Aerospace & Defense': 'Lockheed Martin', 'Food, Beverages & Tobacco': 'Philip Morris International', 'Household Products': 'Unilever', 'Transportation': 'Delta Air Lines', 'Materials': 'CRH', 'Chemicals': 'LyondellBasell Industries', 'Media': 'Disney', 'Apparel': 'Nike', 'Hotels, Restaurants & Leisure': 'McDonald’s', 'Business Services': 'Adecco Group'}\n"
     ]
    }
   ],
   "source": [
    "f500['roa'] = f500['profits'] / f500['assets']\n",
    "roa_desc = f500['roa'].describe()\n",
    "print(roa_desc)\n",
    "\n",
    "top_roa_by_sector2 = {}\n",
    "sector = f500['sector'].unique()\n",
    "for s in sector:\n",
    "    is_sector = f500[\"sector\"] == s\n",
    "    sector_companies = f500.loc[is_sector]\n",
    "    sort_sector = sector_companies.sort_values(\"roa\",ascending=False)\n",
    "    top_company = sort_sector.iloc[0]\n",
    "    company_name = top_company[\"company\"]\n",
    "    top_roa_by_sector2[s] = company_name\n",
    "print(top_roa_by_sector2) \n",
    "\n",
    "top_roa_by_sector = {}\n",
    "for sector in f500[\"sector\"].unique():\n",
    "    is_sector = f500[\"sector\"] == sector\n",
    "    sector_companies = f500.loc[is_sector]\n",
    "    top_company = sector_companies.sort_values(\"roa\",ascending=False).iloc[0]\n",
    "    company_name = top_company[\"company\"]\n",
    "    top_roa_by_sector[sector] = company_name\n"
   ]
  },
  {
   "cell_type": "markdown",
   "metadata": {},
   "source": [
    "### 4. Conclusion\n"
   ]
  }
 ],
 "metadata": {
  "kernelspec": {
   "display_name": "Python 3",
   "language": "python",
   "name": "python3"
  },
  "language_info": {
   "codemirror_mode": {
    "name": "ipython",
    "version": 3
   },
   "file_extension": ".py",
   "mimetype": "text/x-python",
   "name": "python",
   "nbconvert_exporter": "python",
   "pygments_lexer": "ipython3",
   "version": "3.7.3"
  }
 },
 "nbformat": 4,
 "nbformat_minor": 2
}
